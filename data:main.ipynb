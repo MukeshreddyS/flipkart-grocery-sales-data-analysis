{
 "cells": [
  {
   "cell_type": "code",
   "execution_count": 1,
   "id": "56694ab3-cb12-46dd-9e77-cb661955d39e",
   "metadata": {
    "tags": []
   },
   "outputs": [],
   "source": [
    "import pandas as pd\n",
    "import glob\n",
    "import matplotlib.pyplot as plt\n",
    "import seaborn as sns\n",
    "import numpy as np\n",
    "import circlify"
   ]
  },
  {
   "cell_type": "markdown",
   "id": "0ce7ffc5-f565-4bf8-929f-f368362e7c73",
   "metadata": {
    "tags": []
   },
   "source": [
    "## ***Data Loading***"
   ]
  },
  {
   "cell_type": "code",
   "execution_count": 13,
   "id": "d4034dc7-537d-4b0a-b40d-960f3c6594b6",
   "metadata": {
    "tags": []
   },
   "outputs": [
    {
     "data": {
      "text/html": [
       "<div>\n",
       "<style scoped>\n",
       "    .dataframe tbody tr th:only-of-type {\n",
       "        vertical-align: middle;\n",
       "    }\n",
       "\n",
       "    .dataframe tbody tr th {\n",
       "        vertical-align: top;\n",
       "    }\n",
       "\n",
       "    .dataframe thead th {\n",
       "        text-align: right;\n",
       "    }\n",
       "</style>\n",
       "<table border=\"1\" class=\"dataframe\">\n",
       "  <thead>\n",
       "    <tr style=\"text-align: right;\">\n",
       "      <th></th>\n",
       "      <th>Unnamed: 0</th>\n",
       "      <th>product_id</th>\n",
       "      <th>product_name</th>\n",
       "      <th>unit</th>\n",
       "      <th>product_type</th>\n",
       "      <th>brand_name</th>\n",
       "      <th>manufacturer_name</th>\n",
       "      <th>l0_category</th>\n",
       "      <th>l1_category</th>\n",
       "      <th>l2_category</th>\n",
       "      <th>l0_category_id</th>\n",
       "      <th>l1_category_id</th>\n",
       "      <th>l2_category_id</th>\n",
       "    </tr>\n",
       "  </thead>\n",
       "  <tbody>\n",
       "    <tr>\n",
       "      <th>0</th>\n",
       "      <td>0</td>\n",
       "      <td>476763</td>\n",
       "      <td>Christmas - Card</td>\n",
       "      <td>1 unit</td>\n",
       "      <td>Card</td>\n",
       "      <td>NaN</td>\n",
       "      <td>HOT</td>\n",
       "      <td>Specials</td>\n",
       "      <td>Bill Breaker</td>\n",
       "      <td>Bill Breaker</td>\n",
       "      <td>343</td>\n",
       "      <td>1741</td>\n",
       "      <td>1741</td>\n",
       "    </tr>\n",
       "    <tr>\n",
       "      <th>1</th>\n",
       "      <td>1</td>\n",
       "      <td>483436</td>\n",
       "      <td>Plum BodyLovin' Hawaiian Rumba Shower Gel - Sa...</td>\n",
       "      <td>20 ml</td>\n",
       "      <td>Sample</td>\n",
       "      <td>Plum BodyLovin'</td>\n",
       "      <td>Pureplay Skin Sciences India Pvt. Ltd.</td>\n",
       "      <td>Specials</td>\n",
       "      <td>Free Store</td>\n",
       "      <td>Free Store</td>\n",
       "      <td>343</td>\n",
       "      <td>1493</td>\n",
       "      <td>1493</td>\n",
       "    </tr>\n",
       "    <tr>\n",
       "      <th>2</th>\n",
       "      <td>2</td>\n",
       "      <td>476825</td>\n",
       "      <td>Diwali Gift Card Free - Sample</td>\n",
       "      <td>1 unit</td>\n",
       "      <td>Sample</td>\n",
       "      <td>NaN</td>\n",
       "      <td>HOT</td>\n",
       "      <td>Specials</td>\n",
       "      <td>Bill Breaker</td>\n",
       "      <td>Bill Breaker</td>\n",
       "      <td>343</td>\n",
       "      <td>1741</td>\n",
       "      <td>1741</td>\n",
       "    </tr>\n",
       "    <tr>\n",
       "      <th>3</th>\n",
       "      <td>3</td>\n",
       "      <td>483438</td>\n",
       "      <td>Plum BodyLovin' Trippin' Mimosas Shower Gel - ...</td>\n",
       "      <td>20 ml</td>\n",
       "      <td>Sample</td>\n",
       "      <td>Plum BodyLovin'</td>\n",
       "      <td>Pureplay Skin Sciences India Pvt. Ltd.</td>\n",
       "      <td>Specials</td>\n",
       "      <td>Free Store</td>\n",
       "      <td>Free Store</td>\n",
       "      <td>343</td>\n",
       "      <td>1493</td>\n",
       "      <td>1493</td>\n",
       "    </tr>\n",
       "    <tr>\n",
       "      <th>4</th>\n",
       "      <td>4</td>\n",
       "      <td>480473</td>\n",
       "      <td>Flipkart Valentine Day Greeting - Card</td>\n",
       "      <td>1 unit</td>\n",
       "      <td>Card</td>\n",
       "      <td>Flipkart</td>\n",
       "      <td>Dummy Manufacturer</td>\n",
       "      <td>Specials</td>\n",
       "      <td>Bill Breaker</td>\n",
       "      <td>Bill Breaker</td>\n",
       "      <td>343</td>\n",
       "      <td>1741</td>\n",
       "      <td>1741</td>\n",
       "    </tr>\n",
       "  </tbody>\n",
       "</table>\n",
       "</div>"
      ],
      "text/plain": [
       "   Unnamed: 0  product_id                                       product_name  \\\n",
       "0           0      476763                                   Christmas - Card   \n",
       "1           1      483436  Plum BodyLovin' Hawaiian Rumba Shower Gel - Sa...   \n",
       "2           2      476825                     Diwali Gift Card Free - Sample   \n",
       "3           3      483438  Plum BodyLovin' Trippin' Mimosas Shower Gel - ...   \n",
       "4           4      480473             Flipkart Valentine Day Greeting - Card   \n",
       "\n",
       "     unit product_type       brand_name  \\\n",
       "0  1 unit         Card              NaN   \n",
       "1   20 ml       Sample  Plum BodyLovin'   \n",
       "2  1 unit       Sample              NaN   \n",
       "3   20 ml       Sample  Plum BodyLovin'   \n",
       "4  1 unit         Card         Flipkart   \n",
       "\n",
       "                        manufacturer_name l0_category   l1_category  \\\n",
       "0                                     HOT    Specials  Bill Breaker   \n",
       "1  Pureplay Skin Sciences India Pvt. Ltd.    Specials    Free Store   \n",
       "2                                     HOT    Specials  Bill Breaker   \n",
       "3  Pureplay Skin Sciences India Pvt. Ltd.    Specials    Free Store   \n",
       "4                      Dummy Manufacturer    Specials  Bill Breaker   \n",
       "\n",
       "    l2_category  l0_category_id  l1_category_id  l2_category_id  \n",
       "0  Bill Breaker             343            1741            1741  \n",
       "1    Free Store             343            1493            1493  \n",
       "2  Bill Breaker             343            1741            1741  \n",
       "3    Free Store             343            1493            1493  \n",
       "4  Bill Breaker             343            1741            1741  "
      ]
     },
     "execution_count": 13,
     "metadata": {},
     "output_type": "execute_result"
    }
   ],
   "source": [
    "# Load product data\n",
    "product_data = pd.read_csv('/Users/chintu/Desktop/code/flipkart/dim_product.csv')\n",
    "\n",
    "# retreiving head of dataframe\n",
    "product_data.head()"
   ]
  },
  {
   "cell_type": "code",
   "execution_count": 5,
   "id": "3bc127d7-f3ae-4c76-a01d-0dd592ededce",
   "metadata": {
    "tags": []
   },
   "outputs": [
    {
     "name": "stdout",
     "output_type": "stream",
     "text": [
      "<class 'pandas.core.frame.DataFrame'>\n",
      "RangeIndex: 32226 entries, 0 to 32225\n",
      "Data columns (total 13 columns):\n",
      " #   Column             Non-Null Count  Dtype \n",
      "---  ------             --------------  ----- \n",
      " 0   Unnamed: 0         32226 non-null  int64 \n",
      " 1   product_id         32226 non-null  int64 \n",
      " 2   product_name       32226 non-null  object\n",
      " 3   unit               32226 non-null  object\n",
      " 4   product_type       32226 non-null  object\n",
      " 5   brand_name         30788 non-null  object\n",
      " 6   manufacturer_name  29810 non-null  object\n",
      " 7   l0_category        32226 non-null  object\n",
      " 8   l1_category        32226 non-null  object\n",
      " 9   l2_category        32226 non-null  object\n",
      " 10  l0_category_id     32226 non-null  int64 \n",
      " 11  l1_category_id     32226 non-null  int64 \n",
      " 12  l2_category_id     32226 non-null  int64 \n",
      "dtypes: int64(5), object(8)\n",
      "memory usage: 3.2+ MB\n"
     ]
    }
   ],
   "source": [
    "product_data.info()"
   ]
  },
  {
   "cell_type": "code",
   "execution_count": 7,
   "id": "f1acbdc4-0250-4ef4-b838-7177611959d7",
   "metadata": {
    "tags": []
   },
   "outputs": [
    {
     "data": {
      "text/html": [
       "<div>\n",
       "<style scoped>\n",
       "    .dataframe tbody tr th:only-of-type {\n",
       "        vertical-align: middle;\n",
       "    }\n",
       "\n",
       "    .dataframe tbody tr th {\n",
       "        vertical-align: top;\n",
       "    }\n",
       "\n",
       "    .dataframe thead th {\n",
       "        text-align: right;\n",
       "    }\n",
       "</style>\n",
       "<table border=\"1\" class=\"dataframe\">\n",
       "  <thead>\n",
       "    <tr style=\"text-align: right;\">\n",
       "      <th></th>\n",
       "      <th>Unnamed: 0.1</th>\n",
       "      <th>Unnamed: 0</th>\n",
       "      <th>date_</th>\n",
       "      <th>city_name</th>\n",
       "      <th>order_id</th>\n",
       "      <th>cart_id</th>\n",
       "      <th>dim_customer_key</th>\n",
       "      <th>procured_quantity</th>\n",
       "      <th>unit_selling_price</th>\n",
       "      <th>total_discount_amount</th>\n",
       "      <th>product_id</th>\n",
       "      <th>total_weighted_landing_price</th>\n",
       "    </tr>\n",
       "  </thead>\n",
       "  <tbody>\n",
       "    <tr>\n",
       "      <th>0</th>\n",
       "      <td>0</td>\n",
       "      <td>0</td>\n",
       "      <td>2022-04-16</td>\n",
       "      <td>Delhi</td>\n",
       "      <td>115437620</td>\n",
       "      <td>181842007</td>\n",
       "      <td>1444721</td>\n",
       "      <td>1</td>\n",
       "      <td>330.0</td>\n",
       "      <td>0.0</td>\n",
       "      <td>479275</td>\n",
       "      <td>303.990080</td>\n",
       "    </tr>\n",
       "    <tr>\n",
       "      <th>1</th>\n",
       "      <td>1</td>\n",
       "      <td>1</td>\n",
       "      <td>2022-04-16</td>\n",
       "      <td>Delhi</td>\n",
       "      <td>115438108</td>\n",
       "      <td>181842821</td>\n",
       "      <td>8385928</td>\n",
       "      <td>1</td>\n",
       "      <td>20.0</td>\n",
       "      <td>0.0</td>\n",
       "      <td>366712</td>\n",
       "      <td>17.094146</td>\n",
       "    </tr>\n",
       "    <tr>\n",
       "      <th>2</th>\n",
       "      <td>2</td>\n",
       "      <td>2</td>\n",
       "      <td>2022-04-16</td>\n",
       "      <td>Delhi</td>\n",
       "      <td>115438108</td>\n",
       "      <td>181842821</td>\n",
       "      <td>8385928</td>\n",
       "      <td>1</td>\n",
       "      <td>28.0</td>\n",
       "      <td>0.0</td>\n",
       "      <td>336628</td>\n",
       "      <td>25.641000</td>\n",
       "    </tr>\n",
       "    <tr>\n",
       "      <th>3</th>\n",
       "      <td>3</td>\n",
       "      <td>3</td>\n",
       "      <td>2022-04-16</td>\n",
       "      <td>HR-NCR</td>\n",
       "      <td>115439553</td>\n",
       "      <td>181846378</td>\n",
       "      <td>5131680</td>\n",
       "      <td>1</td>\n",
       "      <td>48.0</td>\n",
       "      <td>0.0</td>\n",
       "      <td>56692</td>\n",
       "      <td>37.054005</td>\n",
       "    </tr>\n",
       "    <tr>\n",
       "      <th>4</th>\n",
       "      <td>4</td>\n",
       "      <td>4</td>\n",
       "      <td>2022-04-16</td>\n",
       "      <td>HR-NCR</td>\n",
       "      <td>115440348</td>\n",
       "      <td>181848192</td>\n",
       "      <td>661509</td>\n",
       "      <td>2</td>\n",
       "      <td>147.0</td>\n",
       "      <td>0.0</td>\n",
       "      <td>317559</td>\n",
       "      <td>223.997020</td>\n",
       "    </tr>\n",
       "  </tbody>\n",
       "</table>\n",
       "</div>"
      ],
      "text/plain": [
       "   Unnamed: 0.1  Unnamed: 0       date_ city_name   order_id    cart_id  \\\n",
       "0             0           0  2022-04-16     Delhi  115437620  181842007   \n",
       "1             1           1  2022-04-16     Delhi  115438108  181842821   \n",
       "2             2           2  2022-04-16     Delhi  115438108  181842821   \n",
       "3             3           3  2022-04-16    HR-NCR  115439553  181846378   \n",
       "4             4           4  2022-04-16    HR-NCR  115440348  181848192   \n",
       "\n",
       "   dim_customer_key  procured_quantity  unit_selling_price  \\\n",
       "0           1444721                  1               330.0   \n",
       "1           8385928                  1                20.0   \n",
       "2           8385928                  1                28.0   \n",
       "3           5131680                  1                48.0   \n",
       "4            661509                  2               147.0   \n",
       "\n",
       "   total_discount_amount  product_id  total_weighted_landing_price  \n",
       "0                    0.0      479275                    303.990080  \n",
       "1                    0.0      366712                     17.094146  \n",
       "2                    0.0      336628                     25.641000  \n",
       "3                    0.0       56692                     37.054005  \n",
       "4                    0.0      317559                    223.997020  "
      ]
     },
     "execution_count": 7,
     "metadata": {},
     "output_type": "execute_result"
    }
   ],
   "source": [
    "# Load monthly sales data\n",
    "path = '/Users/chintu/Desktop/code/flipkart/montly_sales/'\n",
    "all_files = glob.glob(path + \"*.csv\")  \n",
    "\n",
    "# Combine all monthly sales files into a single DataFrame\n",
    "monthly_sales_data = pd.concat((pd.read_csv(f) for f in all_files))\n",
    "\n",
    "# retreiving head of dataframe\n",
    "monthly_sales_data.head()"
   ]
  },
  {
   "cell_type": "code",
   "execution_count": 9,
   "id": "74c5025f-1575-4f7a-ba26-1fe4ecbaf4bb",
   "metadata": {
    "tags": []
   },
   "outputs": [
    {
     "name": "stdout",
     "output_type": "stream",
     "text": [
      "<class 'pandas.core.frame.DataFrame'>\n",
      "Index: 46706387 entries, 0 to 6811293\n",
      "Data columns (total 12 columns):\n",
      " #   Column                        Dtype  \n",
      "---  ------                        -----  \n",
      " 0   Unnamed: 0.1                  int64  \n",
      " 1   Unnamed: 0                    int64  \n",
      " 2   date_                         object \n",
      " 3   city_name                     object \n",
      " 4   order_id                      int64  \n",
      " 5   cart_id                       int64  \n",
      " 6   dim_customer_key              int64  \n",
      " 7   procured_quantity             int64  \n",
      " 8   unit_selling_price            float64\n",
      " 9   total_discount_amount         float64\n",
      " 10  product_id                    int64  \n",
      " 11  total_weighted_landing_price  float64\n",
      "dtypes: float64(3), int64(7), object(2)\n",
      "memory usage: 4.5+ GB\n"
     ]
    }
   ],
   "source": [
    "monthly_sales_data.info()"
   ]
  },
  {
   "cell_type": "markdown",
   "id": "1b4e0e6d-b4c5-45c4-9626-d5c931d56843",
   "metadata": {},
   "source": [
    "## ***Data Cleaning and Preprocessing***\n",
    "\n"
   ]
  },
  {
   "cell_type": "code",
   "execution_count": 15,
   "id": "161b78c6-5efa-4072-ab24-2824a79fc91f",
   "metadata": {
    "tags": []
   },
   "outputs": [],
   "source": [
    "# Remove unnamed columns\n",
    "product_data.drop(columns = [\"Unnamed: 0\"],inplace = True)\n",
    "\n",
    "# Renaming columns names\n",
    "product_data.rename(columns = {\"l0_category\" : \"category_0\",\n",
    "                               \"l1_category\" : \"category_1\",\n",
    "                               \"l2_category\" : \"category_2\",\n",
    "                               \"product_id\" : \"product_id_product_id\",\n",
    "                               \"l0_category_id\" : \"category_0_id\",\n",
    "                               \"l1_category_id\" : \"category_1_id\",\n",
    "                               \"l2_category_id\" : \"category_2_id\"},inplace = True)\n",
    "\n",
    "# Correcting datatypes\n",
    "product_data[[\"category_0\", \"category_1\", \"category_2\"]] = product_data[[\"category_0\", \"category_1\", \"category_2\"]].astype('category')\n",
    "\n",
    "\n",
    "# # Handling missing values if any \n",
    "# product_data.dropna(inplace = True)\n",
    "\n",
    "# # handling duplicates \n",
    "# product_data.drop_duplicates(inplace = True)\n",
    "\n",
    "# resetting index\n",
    "product_data = product_data.reset_index(drop=True)"
   ]
  },
  {
   "cell_type": "code",
   "execution_count": 17,
   "id": "8dddce8f-48da-4d03-a00f-56b106d77fa4",
   "metadata": {
    "tags": []
   },
   "outputs": [
    {
     "name": "stdout",
     "output_type": "stream",
     "text": [
      "<class 'pandas.core.frame.DataFrame'>\n",
      "RangeIndex: 32226 entries, 0 to 32225\n",
      "Data columns (total 12 columns):\n",
      " #   Column                 Non-Null Count  Dtype   \n",
      "---  ------                 --------------  -----   \n",
      " 0   product_id_product_id  32226 non-null  int64   \n",
      " 1   product_name           32226 non-null  object  \n",
      " 2   unit                   32226 non-null  object  \n",
      " 3   product_type           32226 non-null  object  \n",
      " 4   brand_name             30788 non-null  object  \n",
      " 5   manufacturer_name      29810 non-null  object  \n",
      " 6   category_0             32226 non-null  category\n",
      " 7   category_1             32226 non-null  category\n",
      " 8   category_2             32226 non-null  category\n",
      " 9   category_0_id          32226 non-null  int64   \n",
      " 10  category_1_id          32226 non-null  int64   \n",
      " 11  category_2_id          32226 non-null  int64   \n",
      "dtypes: category(3), int64(4), object(5)\n",
      "memory usage: 2.4+ MB\n"
     ]
    },
    {
     "data": {
      "text/html": [
       "<div>\n",
       "<style scoped>\n",
       "    .dataframe tbody tr th:only-of-type {\n",
       "        vertical-align: middle;\n",
       "    }\n",
       "\n",
       "    .dataframe tbody tr th {\n",
       "        vertical-align: top;\n",
       "    }\n",
       "\n",
       "    .dataframe thead th {\n",
       "        text-align: right;\n",
       "    }\n",
       "</style>\n",
       "<table border=\"1\" class=\"dataframe\">\n",
       "  <thead>\n",
       "    <tr style=\"text-align: right;\">\n",
       "      <th></th>\n",
       "      <th>product_id_product_id</th>\n",
       "      <th>product_name</th>\n",
       "      <th>unit</th>\n",
       "      <th>product_type</th>\n",
       "      <th>brand_name</th>\n",
       "      <th>manufacturer_name</th>\n",
       "      <th>category_0</th>\n",
       "      <th>category_1</th>\n",
       "      <th>category_2</th>\n",
       "      <th>category_0_id</th>\n",
       "      <th>category_1_id</th>\n",
       "      <th>category_2_id</th>\n",
       "    </tr>\n",
       "  </thead>\n",
       "  <tbody>\n",
       "    <tr>\n",
       "      <th>0</th>\n",
       "      <td>476763</td>\n",
       "      <td>Christmas - Card</td>\n",
       "      <td>1 unit</td>\n",
       "      <td>Card</td>\n",
       "      <td>NaN</td>\n",
       "      <td>HOT</td>\n",
       "      <td>Specials</td>\n",
       "      <td>Bill Breaker</td>\n",
       "      <td>Bill Breaker</td>\n",
       "      <td>343</td>\n",
       "      <td>1741</td>\n",
       "      <td>1741</td>\n",
       "    </tr>\n",
       "    <tr>\n",
       "      <th>1</th>\n",
       "      <td>483436</td>\n",
       "      <td>Plum BodyLovin' Hawaiian Rumba Shower Gel - Sa...</td>\n",
       "      <td>20 ml</td>\n",
       "      <td>Sample</td>\n",
       "      <td>Plum BodyLovin'</td>\n",
       "      <td>Pureplay Skin Sciences India Pvt. Ltd.</td>\n",
       "      <td>Specials</td>\n",
       "      <td>Free Store</td>\n",
       "      <td>Free Store</td>\n",
       "      <td>343</td>\n",
       "      <td>1493</td>\n",
       "      <td>1493</td>\n",
       "    </tr>\n",
       "    <tr>\n",
       "      <th>2</th>\n",
       "      <td>476825</td>\n",
       "      <td>Diwali Gift Card Free - Sample</td>\n",
       "      <td>1 unit</td>\n",
       "      <td>Sample</td>\n",
       "      <td>NaN</td>\n",
       "      <td>HOT</td>\n",
       "      <td>Specials</td>\n",
       "      <td>Bill Breaker</td>\n",
       "      <td>Bill Breaker</td>\n",
       "      <td>343</td>\n",
       "      <td>1741</td>\n",
       "      <td>1741</td>\n",
       "    </tr>\n",
       "    <tr>\n",
       "      <th>3</th>\n",
       "      <td>483438</td>\n",
       "      <td>Plum BodyLovin' Trippin' Mimosas Shower Gel - ...</td>\n",
       "      <td>20 ml</td>\n",
       "      <td>Sample</td>\n",
       "      <td>Plum BodyLovin'</td>\n",
       "      <td>Pureplay Skin Sciences India Pvt. Ltd.</td>\n",
       "      <td>Specials</td>\n",
       "      <td>Free Store</td>\n",
       "      <td>Free Store</td>\n",
       "      <td>343</td>\n",
       "      <td>1493</td>\n",
       "      <td>1493</td>\n",
       "    </tr>\n",
       "    <tr>\n",
       "      <th>4</th>\n",
       "      <td>480473</td>\n",
       "      <td>Flipkart Valentine Day Greeting - Card</td>\n",
       "      <td>1 unit</td>\n",
       "      <td>Card</td>\n",
       "      <td>Flipkart</td>\n",
       "      <td>Dummy Manufacturer</td>\n",
       "      <td>Specials</td>\n",
       "      <td>Bill Breaker</td>\n",
       "      <td>Bill Breaker</td>\n",
       "      <td>343</td>\n",
       "      <td>1741</td>\n",
       "      <td>1741</td>\n",
       "    </tr>\n",
       "  </tbody>\n",
       "</table>\n",
       "</div>"
      ],
      "text/plain": [
       "   product_id_product_id                                       product_name  \\\n",
       "0                 476763                                   Christmas - Card   \n",
       "1                 483436  Plum BodyLovin' Hawaiian Rumba Shower Gel - Sa...   \n",
       "2                 476825                     Diwali Gift Card Free - Sample   \n",
       "3                 483438  Plum BodyLovin' Trippin' Mimosas Shower Gel - ...   \n",
       "4                 480473             Flipkart Valentine Day Greeting - Card   \n",
       "\n",
       "     unit product_type       brand_name  \\\n",
       "0  1 unit         Card              NaN   \n",
       "1   20 ml       Sample  Plum BodyLovin'   \n",
       "2  1 unit       Sample              NaN   \n",
       "3   20 ml       Sample  Plum BodyLovin'   \n",
       "4  1 unit         Card         Flipkart   \n",
       "\n",
       "                        manufacturer_name category_0    category_1  \\\n",
       "0                                     HOT   Specials  Bill Breaker   \n",
       "1  Pureplay Skin Sciences India Pvt. Ltd.   Specials    Free Store   \n",
       "2                                     HOT   Specials  Bill Breaker   \n",
       "3  Pureplay Skin Sciences India Pvt. Ltd.   Specials    Free Store   \n",
       "4                      Dummy Manufacturer   Specials  Bill Breaker   \n",
       "\n",
       "     category_2  category_0_id  category_1_id  category_2_id  \n",
       "0  Bill Breaker            343           1741           1741  \n",
       "1    Free Store            343           1493           1493  \n",
       "2  Bill Breaker            343           1741           1741  \n",
       "3    Free Store            343           1493           1493  \n",
       "4  Bill Breaker            343           1741           1741  "
      ]
     },
     "execution_count": 17,
     "metadata": {},
     "output_type": "execute_result"
    }
   ],
   "source": [
    "product_data.info()\n",
    "product_data.head()"
   ]
  },
  {
   "cell_type": "code",
   "execution_count": 19,
   "id": "d75c2042-0ebd-435f-9079-189bd1ffa208",
   "metadata": {
    "tags": []
   },
   "outputs": [],
   "source": [
    "# Removing Unnamed columns\n",
    "monthly_sales_data.drop(columns=['Unnamed: 0', 'Unnamed: 0.1','cart_id','total_discount_amount'], inplace=True)\n",
    "\n",
    "# Converting datatype of date to datetime\n",
    "monthly_sales_data['date_'] = pd.to_datetime(monthly_sales_data['date_'])\n",
    "monthly_sales_data['city_name'] = monthly_sales_data['city_name'].astype('category')\n",
    "\n",
    "# Renaming columns\n",
    "monthly_sales_data.rename(columns = {\"date_\" :\"date\",\n",
    "                                  \"dim_customer_key\" :\"customer_id\"},inplace = True)\n",
    "\n",
    "# # Handling missing values if any \n",
    "# product_data.dropna(inplace = True)\n",
    "\n",
    "# # handling duplicates \n",
    "# product_data.drop_duplicates(inplace = True)"
   ]
  },
  {
   "cell_type": "code",
   "execution_count": 21,
   "id": "cfea9c12-2af0-4896-861c-5c3f17603482",
   "metadata": {
    "tags": []
   },
   "outputs": [],
   "source": [
    "# Sorting Dataframe by order date \n",
    "monthly_sales_data = monthly_sales_data.sort_values(by='date')\n",
    "\n",
    "# Resetting index\n",
    "monthly_sales_data = monthly_sales_data.reset_index(drop=True)"
   ]
  },
  {
   "cell_type": "code",
   "execution_count": 23,
   "id": "44f17224-d627-40dc-93c7-ef27f3bda597",
   "metadata": {
    "tags": []
   },
   "outputs": [
    {
     "name": "stdout",
     "output_type": "stream",
     "text": [
      "<class 'pandas.core.frame.DataFrame'>\n",
      "RangeIndex: 46706387 entries, 0 to 46706386\n",
      "Data columns (total 8 columns):\n",
      " #   Column                        Dtype         \n",
      "---  ------                        -----         \n",
      " 0   date                          datetime64[ns]\n",
      " 1   city_name                     category      \n",
      " 2   order_id                      int64         \n",
      " 3   customer_id                   int64         \n",
      " 4   procured_quantity             int64         \n",
      " 5   unit_selling_price            float64       \n",
      " 6   product_id                    int64         \n",
      " 7   total_weighted_landing_price  float64       \n",
      "dtypes: category(1), datetime64[ns](1), float64(2), int64(4)\n",
      "memory usage: 2.5 GB\n"
     ]
    },
    {
     "data": {
      "text/html": [
       "<div>\n",
       "<style scoped>\n",
       "    .dataframe tbody tr th:only-of-type {\n",
       "        vertical-align: middle;\n",
       "    }\n",
       "\n",
       "    .dataframe tbody tr th {\n",
       "        vertical-align: top;\n",
       "    }\n",
       "\n",
       "    .dataframe thead th {\n",
       "        text-align: right;\n",
       "    }\n",
       "</style>\n",
       "<table border=\"1\" class=\"dataframe\">\n",
       "  <thead>\n",
       "    <tr style=\"text-align: right;\">\n",
       "      <th></th>\n",
       "      <th>date</th>\n",
       "      <th>city_name</th>\n",
       "      <th>order_id</th>\n",
       "      <th>customer_id</th>\n",
       "      <th>procured_quantity</th>\n",
       "      <th>unit_selling_price</th>\n",
       "      <th>product_id</th>\n",
       "      <th>total_weighted_landing_price</th>\n",
       "    </tr>\n",
       "  </thead>\n",
       "  <tbody>\n",
       "    <tr>\n",
       "      <th>0</th>\n",
       "      <td>2022-04-01</td>\n",
       "      <td>Delhi</td>\n",
       "      <td>112293022</td>\n",
       "      <td>13525539</td>\n",
       "      <td>2</td>\n",
       "      <td>105.0</td>\n",
       "      <td>428612</td>\n",
       "      <td>166.000000</td>\n",
       "    </tr>\n",
       "    <tr>\n",
       "      <th>1</th>\n",
       "      <td>2022-04-01</td>\n",
       "      <td>Mumbai</td>\n",
       "      <td>112361883</td>\n",
       "      <td>17200064</td>\n",
       "      <td>1</td>\n",
       "      <td>120.0</td>\n",
       "      <td>424849</td>\n",
       "      <td>116.214910</td>\n",
       "    </tr>\n",
       "    <tr>\n",
       "      <th>2</th>\n",
       "      <td>2022-04-01</td>\n",
       "      <td>Delhi</td>\n",
       "      <td>112361684</td>\n",
       "      <td>12564993</td>\n",
       "      <td>3</td>\n",
       "      <td>40.0</td>\n",
       "      <td>409776</td>\n",
       "      <td>123.009006</td>\n",
       "    </tr>\n",
       "    <tr>\n",
       "      <th>3</th>\n",
       "      <td>2022-04-01</td>\n",
       "      <td>HR-NCR</td>\n",
       "      <td>112361617</td>\n",
       "      <td>2217130</td>\n",
       "      <td>1</td>\n",
       "      <td>169.0</td>\n",
       "      <td>86899</td>\n",
       "      <td>171.513000</td>\n",
       "    </tr>\n",
       "    <tr>\n",
       "      <th>4</th>\n",
       "      <td>2022-04-01</td>\n",
       "      <td>Mumbai</td>\n",
       "      <td>112361578</td>\n",
       "      <td>17662525</td>\n",
       "      <td>1</td>\n",
       "      <td>23.0</td>\n",
       "      <td>336305</td>\n",
       "      <td>15.363157</td>\n",
       "    </tr>\n",
       "  </tbody>\n",
       "</table>\n",
       "</div>"
      ],
      "text/plain": [
       "        date city_name   order_id  customer_id  procured_quantity  \\\n",
       "0 2022-04-01     Delhi  112293022     13525539                  2   \n",
       "1 2022-04-01    Mumbai  112361883     17200064                  1   \n",
       "2 2022-04-01     Delhi  112361684     12564993                  3   \n",
       "3 2022-04-01    HR-NCR  112361617      2217130                  1   \n",
       "4 2022-04-01    Mumbai  112361578     17662525                  1   \n",
       "\n",
       "   unit_selling_price  product_id  total_weighted_landing_price  \n",
       "0               105.0      428612                    166.000000  \n",
       "1               120.0      424849                    116.214910  \n",
       "2                40.0      409776                    123.009006  \n",
       "3               169.0       86899                    171.513000  \n",
       "4                23.0      336305                     15.363157  "
      ]
     },
     "execution_count": 23,
     "metadata": {},
     "output_type": "execute_result"
    }
   ],
   "source": [
    "monthly_sales_data.info()\n",
    "monthly_sales_data.head()"
   ]
  },
  {
   "cell_type": "markdown",
   "id": "1e03b299-4ffc-4382-b903-03ea9106cf9e",
   "metadata": {},
   "source": [
    "## ***Exploratory Data Analysis***"
   ]
  },
  {
   "cell_type": "code",
   "execution_count": 27,
   "id": "11fa78c9-343a-4603-8fa1-72463131242d",
   "metadata": {
    "tags": []
   },
   "outputs": [
    {
     "name": "stdout",
     "output_type": "stream",
     "text": [
      "Total Products: 32226\n",
      "Total Brands: 2192\n"
     ]
    },
    {
     "data": {
      "text/html": [
       "<div>\n",
       "<style scoped>\n",
       "    .dataframe tbody tr th:only-of-type {\n",
       "        vertical-align: middle;\n",
       "    }\n",
       "\n",
       "    .dataframe tbody tr th {\n",
       "        vertical-align: top;\n",
       "    }\n",
       "\n",
       "    .dataframe thead th {\n",
       "        text-align: right;\n",
       "    }\n",
       "</style>\n",
       "<table border=\"1\" class=\"dataframe\">\n",
       "  <thead>\n",
       "    <tr style=\"text-align: right;\">\n",
       "      <th></th>\n",
       "      <th>product_id_product_id</th>\n",
       "      <th>category_0_id</th>\n",
       "      <th>category_1_id</th>\n",
       "      <th>category_2_id</th>\n",
       "    </tr>\n",
       "  </thead>\n",
       "  <tbody>\n",
       "    <tr>\n",
       "      <th>count</th>\n",
       "      <td>32226.000000</td>\n",
       "      <td>32226.000000</td>\n",
       "      <td>32226.000000</td>\n",
       "      <td>32226.000000</td>\n",
       "    </tr>\n",
       "    <tr>\n",
       "      <th>mean</th>\n",
       "      <td>401505.635263</td>\n",
       "      <td>602.077856</td>\n",
       "      <td>912.249364</td>\n",
       "      <td>819.395488</td>\n",
       "    </tr>\n",
       "    <tr>\n",
       "      <th>std</th>\n",
       "      <td>147362.043573</td>\n",
       "      <td>627.878785</td>\n",
       "      <td>484.406205</td>\n",
       "      <td>607.573456</td>\n",
       "    </tr>\n",
       "    <tr>\n",
       "      <th>min</th>\n",
       "      <td>1.000000</td>\n",
       "      <td>4.000000</td>\n",
       "      <td>19.000000</td>\n",
       "      <td>6.000000</td>\n",
       "    </tr>\n",
       "    <tr>\n",
       "      <th>25%</th>\n",
       "      <td>396231.500000</td>\n",
       "      <td>15.000000</td>\n",
       "      <td>707.000000</td>\n",
       "      <td>133.000000</td>\n",
       "    </tr>\n",
       "    <tr>\n",
       "      <th>50%</th>\n",
       "      <td>477867.500000</td>\n",
       "      <td>175.000000</td>\n",
       "      <td>975.000000</td>\n",
       "      <td>958.000000</td>\n",
       "    </tr>\n",
       "    <tr>\n",
       "      <th>75%</th>\n",
       "      <td>489523.750000</td>\n",
       "      <td>1379.000000</td>\n",
       "      <td>1160.000000</td>\n",
       "      <td>1177.000000</td>\n",
       "    </tr>\n",
       "    <tr>\n",
       "      <th>max</th>\n",
       "      <td>498814.000000</td>\n",
       "      <td>1557.000000</td>\n",
       "      <td>2039.000000</td>\n",
       "      <td>2039.000000</td>\n",
       "    </tr>\n",
       "  </tbody>\n",
       "</table>\n",
       "</div>"
      ],
      "text/plain": [
       "       product_id_product_id  category_0_id  category_1_id  category_2_id\n",
       "count           32226.000000   32226.000000   32226.000000   32226.000000\n",
       "mean           401505.635263     602.077856     912.249364     819.395488\n",
       "std            147362.043573     627.878785     484.406205     607.573456\n",
       "min                 1.000000       4.000000      19.000000       6.000000\n",
       "25%            396231.500000      15.000000     707.000000     133.000000\n",
       "50%            477867.500000     175.000000     975.000000     958.000000\n",
       "75%            489523.750000    1379.000000    1160.000000    1177.000000\n",
       "max            498814.000000    1557.000000    2039.000000    2039.000000"
      ]
     },
     "execution_count": 27,
     "metadata": {},
     "output_type": "execute_result"
    }
   ],
   "source": [
    "# Count of Unique Values\n",
    "unique_products = product_data['product_id_product_id'].nunique()\n",
    "unique_brands = product_data['brand_name'].nunique()\n",
    "\n",
    "print(f\"Total Products: {unique_products}\")\n",
    "print(f\"Total Brands: {unique_brands}\")\n",
    "\n",
    "\n",
    "# Basic Descriptive Statistics for Numerical Columns\n",
    "product_data.describe()"
   ]
  },
  {
   "cell_type": "code",
   "execution_count": 29,
   "id": "e268bef2-abbb-4a5e-982c-90e1c5c2165e",
   "metadata": {
    "tags": []
   },
   "outputs": [
    {
     "data": {
      "text/html": [
       "<div>\n",
       "<style scoped>\n",
       "    .dataframe tbody tr th:only-of-type {\n",
       "        vertical-align: middle;\n",
       "    }\n",
       "\n",
       "    .dataframe tbody tr th {\n",
       "        vertical-align: top;\n",
       "    }\n",
       "\n",
       "    .dataframe thead th {\n",
       "        text-align: right;\n",
       "    }\n",
       "</style>\n",
       "<table border=\"1\" class=\"dataframe\">\n",
       "  <thead>\n",
       "    <tr style=\"text-align: right;\">\n",
       "      <th></th>\n",
       "      <th>date</th>\n",
       "      <th>order_id</th>\n",
       "      <th>customer_id</th>\n",
       "      <th>procured_quantity</th>\n",
       "      <th>unit_selling_price</th>\n",
       "      <th>product_id</th>\n",
       "      <th>total_weighted_landing_price</th>\n",
       "    </tr>\n",
       "  </thead>\n",
       "  <tbody>\n",
       "    <tr>\n",
       "      <th>count</th>\n",
       "      <td>46706387</td>\n",
       "      <td>46706387.00</td>\n",
       "      <td>46706387.00</td>\n",
       "      <td>46706387.00</td>\n",
       "      <td>46706387.00</td>\n",
       "      <td>46706387.00</td>\n",
       "      <td>46627032.00</td>\n",
       "    </tr>\n",
       "    <tr>\n",
       "      <th>mean</th>\n",
       "      <td>2022-05-18 14:08:40.150412800</td>\n",
       "      <td>123828773.93</td>\n",
       "      <td>10561912.16</td>\n",
       "      <td>1.29</td>\n",
       "      <td>87.17</td>\n",
       "      <td>233857.27</td>\n",
       "      <td>89.27</td>\n",
       "    </tr>\n",
       "    <tr>\n",
       "      <th>min</th>\n",
       "      <td>2022-04-01 00:00:00</td>\n",
       "      <td>112238954.00</td>\n",
       "      <td>189.00</td>\n",
       "      <td>0.00</td>\n",
       "      <td>0.00</td>\n",
       "      <td>1.00</td>\n",
       "      <td>0.00</td>\n",
       "    </tr>\n",
       "    <tr>\n",
       "      <th>25%</th>\n",
       "      <td>2022-04-24 00:00:00</td>\n",
       "      <td>117256948.00</td>\n",
       "      <td>4076067.00</td>\n",
       "      <td>1.00</td>\n",
       "      <td>27.00</td>\n",
       "      <td>19512.00</td>\n",
       "      <td>25.20</td>\n",
       "    </tr>\n",
       "    <tr>\n",
       "      <th>50%</th>\n",
       "      <td>2022-05-14 00:00:00</td>\n",
       "      <td>122339712.00</td>\n",
       "      <td>11266970.00</td>\n",
       "      <td>1.00</td>\n",
       "      <td>50.00</td>\n",
       "      <td>285972.00</td>\n",
       "      <td>49.00</td>\n",
       "    </tr>\n",
       "    <tr>\n",
       "      <th>75%</th>\n",
       "      <td>2022-06-12 00:00:00</td>\n",
       "      <td>130156859.00</td>\n",
       "      <td>17052042.00</td>\n",
       "      <td>1.00</td>\n",
       "      <td>102.00</td>\n",
       "      <td>408764.00</td>\n",
       "      <td>102.01</td>\n",
       "    </tr>\n",
       "    <tr>\n",
       "      <th>max</th>\n",
       "      <td>2022-07-10 00:00:00</td>\n",
       "      <td>137790010.00</td>\n",
       "      <td>21151976.00</td>\n",
       "      <td>50.00</td>\n",
       "      <td>10999.00</td>\n",
       "      <td>488746.00</td>\n",
       "      <td>20880.12</td>\n",
       "    </tr>\n",
       "    <tr>\n",
       "      <th>std</th>\n",
       "      <td>NaN</td>\n",
       "      <td>7647332.82</td>\n",
       "      <td>6520444.27</td>\n",
       "      <td>0.92</td>\n",
       "      <td>110.63</td>\n",
       "      <td>188481.49</td>\n",
       "      <td>127.52</td>\n",
       "    </tr>\n",
       "  </tbody>\n",
       "</table>\n",
       "</div>"
      ],
      "text/plain": [
       "                                date     order_id  customer_id  \\\n",
       "count                       46706387  46706387.00  46706387.00   \n",
       "mean   2022-05-18 14:08:40.150412800 123828773.93  10561912.16   \n",
       "min              2022-04-01 00:00:00 112238954.00       189.00   \n",
       "25%              2022-04-24 00:00:00 117256948.00   4076067.00   \n",
       "50%              2022-05-14 00:00:00 122339712.00  11266970.00   \n",
       "75%              2022-06-12 00:00:00 130156859.00  17052042.00   \n",
       "max              2022-07-10 00:00:00 137790010.00  21151976.00   \n",
       "std                              NaN   7647332.82   6520444.27   \n",
       "\n",
       "       procured_quantity  unit_selling_price  product_id  \\\n",
       "count        46706387.00         46706387.00 46706387.00   \n",
       "mean                1.29               87.17   233857.27   \n",
       "min                 0.00                0.00        1.00   \n",
       "25%                 1.00               27.00    19512.00   \n",
       "50%                 1.00               50.00   285972.00   \n",
       "75%                 1.00              102.00   408764.00   \n",
       "max                50.00            10999.00   488746.00   \n",
       "std                 0.92              110.63   188481.49   \n",
       "\n",
       "       total_weighted_landing_price  \n",
       "count                   46627032.00  \n",
       "mean                          89.27  \n",
       "min                            0.00  \n",
       "25%                           25.20  \n",
       "50%                           49.00  \n",
       "75%                          102.01  \n",
       "max                        20880.12  \n",
       "std                          127.52  "
      ]
     },
     "execution_count": 29,
     "metadata": {},
     "output_type": "execute_result"
    }
   ],
   "source": [
    "pd.options.display.float_format = '{:.2f}'.format\n",
    "\n",
    "monthly_sales_data.describe()"
   ]
  },
  {
   "cell_type": "markdown",
   "id": "8e94decb-8296-4b6f-9d7c-3fad1d503a62",
   "metadata": {
    "tags": []
   },
   "source": [
    "### ***Sales KPIs***"
   ]
  },
  {
   "cell_type": "markdown",
   "id": "976b42c3-cbfb-459b-ab8d-b26980b999d5",
   "metadata": {
    "tags": []
   },
   "source": [
    "#### ***Total sales***"
   ]
  },
  {
   "cell_type": "code",
   "execution_count": 31,
   "id": "2204c55e-b724-41ca-b638-2e3d42167419",
   "metadata": {
    "tags": []
   },
   "outputs": [
    {
     "name": "stdout",
     "output_type": "stream",
     "text": [
      "Total Sales Revenue: 4725948522.00\n"
     ]
    }
   ],
   "source": [
    "# Creating new column for total sales \n",
    "monthly_sales_data['total_sales'] = monthly_sales_data['procured_quantity'] * monthly_sales_data['unit_selling_price']\n",
    "\n",
    "# Calculating total sales revenue\n",
    "total_sales_revenue = monthly_sales_data['total_sales'].sum()\n",
    "\n",
    "print(f\"Total Sales Revenue: {total_sales_revenue:.2f}\")"
   ]
  },
  {
   "cell_type": "markdown",
   "id": "6881928c-7a4b-4984-bbed-c228ec067bb9",
   "metadata": {},
   "source": [
    "#### ***Average Order Value***"
   ]
  },
  {
   "cell_type": "code",
   "execution_count": 33,
   "id": "22179247-0942-4b19-9217-1d6f1a4ff934",
   "metadata": {
    "tags": []
   },
   "outputs": [
    {
     "name": "stdout",
     "output_type": "stream",
     "text": [
      "Average Order Value (AOV): 453.07\n"
     ]
    }
   ],
   "source": [
    "# Calculating total sales revenue (already provided)\n",
    "total_sales_revenue = 4725948522.0\n",
    "\n",
    "# Calculating the total number of unique orders\n",
    "total_orders = monthly_sales_data['order_id'].nunique()\n",
    "\n",
    "# Calculating the Average Order Value (AOV)\n",
    "average_order_value = total_sales_revenue / total_orders\n",
    "\n",
    "print(f\"Average Order Value (AOV): {round(average_order_value,2)}\")"
   ]
  },
  {
   "cell_type": "markdown",
   "id": "e2483340-576b-48fa-9822-03c963160e66",
   "metadata": {},
   "source": [
    "#### ***Daily Sales***"
   ]
  },
  {
   "cell_type": "code",
   "execution_count": 35,
   "id": "e0c7580d-91b3-4225-8736-349d09ae2b44",
   "metadata": {
    "tags": []
   },
   "outputs": [
    {
     "name": "stdout",
     "output_type": "stream",
     "text": [
      "Top 10 daily sales\n"
     ]
    },
    {
     "data": {
      "text/html": [
       "<div>\n",
       "<style scoped>\n",
       "    .dataframe tbody tr th:only-of-type {\n",
       "        vertical-align: middle;\n",
       "    }\n",
       "\n",
       "    .dataframe tbody tr th {\n",
       "        vertical-align: top;\n",
       "    }\n",
       "\n",
       "    .dataframe thead th {\n",
       "        text-align: right;\n",
       "    }\n",
       "</style>\n",
       "<table border=\"1\" class=\"dataframe\">\n",
       "  <thead>\n",
       "    <tr style=\"text-align: right;\">\n",
       "      <th></th>\n",
       "      <th>date</th>\n",
       "      <th>total_sales</th>\n",
       "    </tr>\n",
       "  </thead>\n",
       "  <tbody>\n",
       "    <tr>\n",
       "      <th>73</th>\n",
       "      <td>2022-07-03</td>\n",
       "      <td>87943210.00</td>\n",
       "    </tr>\n",
       "    <tr>\n",
       "      <th>55</th>\n",
       "      <td>2022-06-05</td>\n",
       "      <td>79099203.00</td>\n",
       "    </tr>\n",
       "    <tr>\n",
       "      <th>80</th>\n",
       "      <td>2022-07-10</td>\n",
       "      <td>78620503.00</td>\n",
       "    </tr>\n",
       "    <tr>\n",
       "      <th>72</th>\n",
       "      <td>2022-07-02</td>\n",
       "      <td>78023001.00</td>\n",
       "    </tr>\n",
       "    <tr>\n",
       "      <th>30</th>\n",
       "      <td>2022-05-01</td>\n",
       "      <td>74477988.00</td>\n",
       "    </tr>\n",
       "    <tr>\n",
       "      <th>79</th>\n",
       "      <td>2022-07-09</td>\n",
       "      <td>73745919.00</td>\n",
       "    </tr>\n",
       "    <tr>\n",
       "      <th>71</th>\n",
       "      <td>2022-07-01</td>\n",
       "      <td>72185358.00</td>\n",
       "    </tr>\n",
       "    <tr>\n",
       "      <th>54</th>\n",
       "      <td>2022-06-04</td>\n",
       "      <td>71481547.00</td>\n",
       "    </tr>\n",
       "    <tr>\n",
       "      <th>62</th>\n",
       "      <td>2022-06-12</td>\n",
       "      <td>69568063.00</td>\n",
       "    </tr>\n",
       "    <tr>\n",
       "      <th>37</th>\n",
       "      <td>2022-05-08</td>\n",
       "      <td>69271614.00</td>\n",
       "    </tr>\n",
       "  </tbody>\n",
       "</table>\n",
       "</div>"
      ],
      "text/plain": [
       "         date  total_sales\n",
       "73 2022-07-03  87943210.00\n",
       "55 2022-06-05  79099203.00\n",
       "80 2022-07-10  78620503.00\n",
       "72 2022-07-02  78023001.00\n",
       "30 2022-05-01  74477988.00\n",
       "79 2022-07-09  73745919.00\n",
       "71 2022-07-01  72185358.00\n",
       "54 2022-06-04  71481547.00\n",
       "62 2022-06-12  69568063.00\n",
       "37 2022-05-08  69271614.00"
      ]
     },
     "execution_count": 35,
     "metadata": {},
     "output_type": "execute_result"
    }
   ],
   "source": [
    "# Grouping date and month columns and summing total sales\n",
    "daily_sales = monthly_sales_data.groupby('date')['total_sales'].sum()\n",
    "\n",
    "#resetting index to make it a Dataframe\n",
    "daily_sales = daily_sales.reset_index()\n",
    "print(\"Top 10 daily sales\")\n",
    "daily_sales.sort_values('total_sales',ascending = False).head(10)"
   ]
  },
  {
   "cell_type": "code",
   "execution_count": 37,
   "id": "d7a90d98-48a9-4517-bce5-01d284aa0a47",
   "metadata": {
    "tags": []
   },
   "outputs": [
    {
     "data": {
      "image/png": "[encoded data removed]",
      "text/plain": [
       "<Figure size 1000x600 with 1 Axes>"
      ]
     },
     "metadata": {},
     "output_type": "display_data"
    }
   ],
   "source": [
    "import matplotlib.pyplot as plt\n",
    "from matplotlib.ticker import FuncFormatter\n",
    "\n",
    "# Function to format y-axis values in millions\n",
    "def millions_formatter(x, pos):\n",
    "    return f'{x / 1e6:.0f}M'\n",
    "\n",
    "# Plotting daily sales\n",
    "plt.figure(figsize=(10, 6))\n",
    "plt.plot(daily_sales['date'], daily_sales['total_sales'], marker='o', color='red', linestyle='-')\n",
    "plt.title('Daily Sales')\n",
    "plt.xlabel('Date')\n",
    "plt.ylabel('Total Sales (Millions)')\n",
    "plt.xticks(rotation=45)  # Rotate x-axis labels for better readability\n",
    "plt.grid(axis='y', linestyle='--', alpha=0.7)\n",
    "\n",
    "# Apply the millions formatter to y-axis\n",
    "formatter = FuncFormatter(millions_formatter)\n",
    "plt.gca().yaxis.set_major_formatter(formatter)\n",
    "\n",
    "plt.show()\n"
   ]
  },
  {
   "cell_type": "markdown",
   "id": "eaf6f308-b7b4-4109-9e99-4db20ed2a2f7",
   "metadata": {},
   "source": [
    "#### ***Monthly Sales***"
   ]
  },
  {
   "cell_type": "code",
   "execution_count": 39,
   "id": "cc7ce9a8-ad48-4d08-b010-e524e976ea60",
   "metadata": {
    "tags": []
   },
   "outputs": [
    {
     "name": "stdout",
     "output_type": "stream",
     "text": [
      "Monthly sales\n"
     ]
    },
    {
     "data": {
      "text/html": [
       "<div>\n",
       "<style scoped>\n",
       "    .dataframe tbody tr th:only-of-type {\n",
       "        vertical-align: middle;\n",
       "    }\n",
       "\n",
       "    .dataframe tbody tr th {\n",
       "        vertical-align: top;\n",
       "    }\n",
       "\n",
       "    .dataframe thead th {\n",
       "        text-align: right;\n",
       "    }\n",
       "</style>\n",
       "<table border=\"1\" class=\"dataframe\">\n",
       "  <thead>\n",
       "    <tr style=\"text-align: right;\">\n",
       "      <th></th>\n",
       "      <th>date</th>\n",
       "      <th>total_sales</th>\n",
       "    </tr>\n",
       "  </thead>\n",
       "  <tbody>\n",
       "    <tr>\n",
       "      <th>0</th>\n",
       "      <td>April</td>\n",
       "      <td>1542732389.00</td>\n",
       "    </tr>\n",
       "    <tr>\n",
       "      <th>1</th>\n",
       "      <td>May</td>\n",
       "      <td>1216468062.00</td>\n",
       "    </tr>\n",
       "    <tr>\n",
       "      <th>2</th>\n",
       "      <td>June</td>\n",
       "      <td>1241662776.00</td>\n",
       "    </tr>\n",
       "    <tr>\n",
       "      <th>3</th>\n",
       "      <td>July</td>\n",
       "      <td>725085295.00</td>\n",
       "    </tr>\n",
       "  </tbody>\n",
       "</table>\n",
       "</div>"
      ],
      "text/plain": [
       "    date   total_sales\n",
       "0  April 1542732389.00\n",
       "1    May 1216468062.00\n",
       "2   June 1241662776.00\n",
       "3   July  725085295.00"
      ]
     },
     "execution_count": 39,
     "metadata": {},
     "output_type": "execute_result"
    }
   ],
   "source": [
    "# Grouping month and summing total sale \n",
    "monthly_sales = monthly_sales_data.groupby(pd.Grouper(key='date', freq='M'))['total_sales'].sum()\n",
    "\n",
    "# Converting the index to month names\n",
    "monthly_sales.index = monthly_sales.index.strftime('%B')\n",
    "\n",
    "# Resetting index to make it a Dataframe\n",
    "monthly_sales = monthly_sales.reset_index()\n",
    "\n",
    "print(\"Monthly sales\")\n",
    "monthly_sales.head()"
   ]
  },
  {
   "cell_type": "code",
   "execution_count": 41,
   "id": "1295a6c6-b0d4-4705-aec6-c7274ca474d7",
   "metadata": {
    "tags": []
   },
   "outputs": [
    {
     "data": {
      "image/png": "[encoded data removed]",
      "text/plain": [
       "<Figure size 1000x600 with 1 Axes>"
      ]
     },
     "metadata": {},
     "output_type": "display_data"
    }
   ],
   "source": [
    "from matplotlib.ticker import FuncFormatter\n",
    "\n",
    "# Function to format y-axis values in millions\n",
    "def millions_formatter(x, pos):\n",
    "    return f'{x / 1e6:.0f}M'\n",
    "\n",
    "# Plotting monthly sales\n",
    "plt.figure(figsize=(10, 6))\n",
    "plt.bar(monthly_sales['date'], monthly_sales['total_sales'], color='skyblue')\n",
    "plt.title('Monthly Sales')\n",
    "plt.xlabel('Month')\n",
    "plt.ylabel('Total Sales (Millions)')\n",
    "\n",
    "plt.grid(axis='y', linestyle='--', alpha=0.7)\n",
    "\n",
    "# Apply the millions formatter to y-axis\n",
    "formatter = FuncFormatter(millions_formatter)\n",
    "plt.gca().yaxis.set_major_formatter(formatter)\n",
    "\n",
    "plt.show()"
   ]
  },
  {
   "cell_type": "markdown",
   "id": "5d740144-cdee-4990-b6fa-f646f9bc6d1a",
   "metadata": {},
   "source": [
    "#### ***Profit Margin***"
   ]
  },
  {
   "cell_type": "code",
   "execution_count": 43,
   "id": "08c43cfe-82c8-4f3b-b22f-733db8916b8c",
   "metadata": {
    "tags": []
   },
   "outputs": [
    {
     "name": "stdout",
     "output_type": "stream",
     "text": [
      "Total sales revenue : 4,725,948,522.00\n",
      "Total COGS: 4,162,540,866.20\n",
      "Profit Margin: 11.92%\n"
     ]
    }
   ],
   "source": [
    "# Calculate cogs cost on sold goods\n",
    "cogs = monthly_sales_data[\"total_weighted_landing_price\"].sum()\n",
    "\n",
    "# Calculating profit margin\n",
    "profit_margin = ((total_sales_revenue - cogs) / total_sales_revenue ) * 100\n",
    "\n",
    "print(f\"Total sales revenue : {total_sales_revenue:,.2f}\")\n",
    "print(f\"Total COGS: {cogs:,.2f}\")\n",
    "print(f\"Profit Margin: {profit_margin:.2f}%\")"
   ]
  },
  {
   "cell_type": "markdown",
   "id": "ed213884-b119-4740-b6bc-a51bf68dd8f2",
   "metadata": {},
   "source": [
    "### ***Product KPIs***"
   ]
  },
  {
   "cell_type": "markdown",
   "id": "98e247a3-0f05-4dda-9454-43735c28eb01",
   "metadata": {},
   "source": [
    "#### ***Top Products by Sales Volume***"
   ]
  },
  {
   "cell_type": "code",
   "execution_count": 45,
   "id": "e43fb599-1570-4445-b1da-2c70a837ea9b",
   "metadata": {
    "tags": []
   },
   "outputs": [
    {
     "name": "stdout",
     "output_type": "stream",
     "text": [
      "Top 10 Best-Selling Products by Volume:\n"
     ]
    },
    {
     "data": {
      "text/html": [
       "<div>\n",
       "<style scoped>\n",
       "    .dataframe tbody tr th:only-of-type {\n",
       "        vertical-align: middle;\n",
       "    }\n",
       "\n",
       "    .dataframe tbody tr th {\n",
       "        vertical-align: top;\n",
       "    }\n",
       "\n",
       "    .dataframe thead th {\n",
       "        text-align: right;\n",
       "    }\n",
       "</style>\n",
       "<table border=\"1\" class=\"dataframe\">\n",
       "  <thead>\n",
       "    <tr style=\"text-align: right;\">\n",
       "      <th></th>\n",
       "      <th>product_name</th>\n",
       "      <th>procured_quantity</th>\n",
       "    </tr>\n",
       "  </thead>\n",
       "  <tbody>\n",
       "    <tr>\n",
       "      <th>0</th>\n",
       "      <td>Amul Taaza Toned Fresh Milk</td>\n",
       "      <td>1261153</td>\n",
       "    </tr>\n",
       "    <tr>\n",
       "      <th>1</th>\n",
       "      <td>Onion</td>\n",
       "      <td>1171389</td>\n",
       "    </tr>\n",
       "    <tr>\n",
       "      <th>2</th>\n",
       "      <td>Amul Gold Full Cream Fresh Milk</td>\n",
       "      <td>897112</td>\n",
       "    </tr>\n",
       "    <tr>\n",
       "      <th>3</th>\n",
       "      <td>Hybrid Tomato</td>\n",
       "      <td>766785</td>\n",
       "    </tr>\n",
       "    <tr>\n",
       "      <th>4</th>\n",
       "      <td>Desi Tomato</td>\n",
       "      <td>719921</td>\n",
       "    </tr>\n",
       "    <tr>\n",
       "      <th>5</th>\n",
       "      <td>Green Chilli</td>\n",
       "      <td>521772</td>\n",
       "    </tr>\n",
       "    <tr>\n",
       "      <th>6</th>\n",
       "      <td>Coriander Bunch</td>\n",
       "      <td>509505</td>\n",
       "    </tr>\n",
       "    <tr>\n",
       "      <th>7</th>\n",
       "      <td>Potato (Chipsona)</td>\n",
       "      <td>483844</td>\n",
       "    </tr>\n",
       "    <tr>\n",
       "      <th>8</th>\n",
       "      <td>Cucumber</td>\n",
       "      <td>461428</td>\n",
       "    </tr>\n",
       "    <tr>\n",
       "      <th>9</th>\n",
       "      <td>Lady Finger</td>\n",
       "      <td>441270</td>\n",
       "    </tr>\n",
       "  </tbody>\n",
       "</table>\n",
       "</div>"
      ],
      "text/plain": [
       "                      product_name  procured_quantity\n",
       "0      Amul Taaza Toned Fresh Milk            1261153\n",
       "1                            Onion            1171389\n",
       "2  Amul Gold Full Cream Fresh Milk             897112\n",
       "3                    Hybrid Tomato             766785\n",
       "4                      Desi Tomato             719921\n",
       "5                     Green Chilli             521772\n",
       "6                  Coriander Bunch             509505\n",
       "7                Potato (Chipsona)             483844\n",
       "8                         Cucumber             461428\n",
       "9                      Lady Finger             441270"
      ]
     },
     "execution_count": 45,
     "metadata": {},
     "output_type": "execute_result"
    }
   ],
   "source": [
    "# Groupin by product_id and summing sales,quantity  \n",
    "product_performance = monthly_sales_data.groupby('product_id').agg({\n",
    "    'procured_quantity': 'sum',\n",
    "    'unit_selling_price': 'first',\n",
    "    'total_sales' : 'sum'\n",
    "}).reset_index()\n",
    "\n",
    "product_data = product_data.rename(columns = {'product_id' : 'product_id_product_id'})\n",
    "\n",
    "# Get product names from product_data\n",
    "product_performance = product_performance.merge(product_data[['product_id_product_id', 'product_name','category_0','category_1','category_2']], left_on='product_id', right_on='product_id_product_id', how='left')\n",
    "\n",
    "# Identify top 10 best-selling products by sales volume\n",
    "top_selling_products_volume = product_performance.sort_values(by='procured_quantity', ascending=False).reset_index().head(10)\n",
    "\n",
    "print(\"Top 10 Best-Selling Products by Volume:\")\n",
    "top_selling_products_volume[['product_name', 'procured_quantity']]"
   ]
  },
  {
   "cell_type": "code",
   "execution_count": 47,
   "id": "53e65c3f-12d0-4034-8584-5736acb68246",
   "metadata": {
    "tags": []
   },
   "outputs": [
    {
     "data": {
      "image/png": "[encoded data removed]",
      "text/plain": [
       "<Figure size 1000x800 with 1 Axes>"
      ]
     },
     "metadata": {},
     "output_type": "display_data"
    }
   ],
   "source": [
    "\n",
    "# Convert total sales to thousands\n",
    "top_selling_products_volume['total_volume_k'] = top_selling_products_volume['procured_quantity'] / 1_000\n",
    "\n",
    "# Reverse the DataFrame to display the top product at the top in the horizontal bar chart\n",
    "top_selling_products_volume_plt = top_selling_products_volume.iloc[::-1]\n",
    "\n",
    "# Plot\n",
    "plt.figure(figsize=(10, 8))\n",
    "bars = plt.barh(top_selling_products_volume_plt['product_name'], top_selling_products_volume_plt['total_volume_k'],color = [\n",
    "    '#AEC6CF',  # Pastel blue\n",
    "    '#FDBCB4',  # Pastel orange\n",
    "    '#77DD77',  # Pastel green\n",
    "    '#FFB1B3',  # Pastel red\n",
    "    '#CFA4E4',  # Pastel purple\n",
    "    '#D2B48C',  # Tan (soft brown)\n",
    "    '#FFD1DC',  # Pastel pink\n",
    "    '#D1D1D1',  # Light gray\n",
    "    '#A8E4A0',  # Soft olive\n",
    "    '#B4E7F2'   # Pastel cyan\n",
    "]\n",
    ")\n",
    "\n",
    "# Add x-axis label in millions\n",
    "plt.xlabel('Total Volume (Thousands)')\n",
    "\n",
    "# Add data labels\n",
    "for bar in bars:\n",
    "    width = bar.get_width()\n",
    "    plt.text(width, bar.get_y() + bar.get_height()/2, f'{width:.2f}K', ha='right', va='center')\n",
    "\n",
    "plt.title('Top 10 Best-Selling Products by Volume')\n",
    "plt.tight_layout()\n",
    "plt.show()\n",
    "\n"
   ]
  },
  {
   "cell_type": "markdown",
   "id": "da4911e1-9bc8-4cc7-9f2a-cabde96ce9bf",
   "metadata": {},
   "source": [
    "#### ***Top Products by Sales Revenue***"
   ]
  },
  {
   "cell_type": "code",
   "execution_count": 49,
   "id": "f7ad6588-e9d9-4dce-82dc-d1f9007d38a3",
   "metadata": {
    "tags": []
   },
   "outputs": [
    {
     "name": "stdout",
     "output_type": "stream",
     "text": [
      "Top 10 Best-Selling Products by Sales:\n"
     ]
    },
    {
     "data": {
      "text/html": [
       "<div>\n",
       "<style scoped>\n",
       "    .dataframe tbody tr th:only-of-type {\n",
       "        vertical-align: middle;\n",
       "    }\n",
       "\n",
       "    .dataframe tbody tr th {\n",
       "        vertical-align: top;\n",
       "    }\n",
       "\n",
       "    .dataframe thead th {\n",
       "        text-align: right;\n",
       "    }\n",
       "</style>\n",
       "<table border=\"1\" class=\"dataframe\">\n",
       "  <thead>\n",
       "    <tr style=\"text-align: right;\">\n",
       "      <th></th>\n",
       "      <th>product_name</th>\n",
       "      <th>procured_quantity</th>\n",
       "      <th>total_sales</th>\n",
       "    </tr>\n",
       "  </thead>\n",
       "  <tbody>\n",
       "    <tr>\n",
       "      <th>0</th>\n",
       "      <td>Fortune Soya Health Refined Soyabean Oil</td>\n",
       "      <td>250055</td>\n",
       "      <td>44814504.00</td>\n",
       "    </tr>\n",
       "    <tr>\n",
       "      <th>1</th>\n",
       "      <td>Aashirvaad Shudh Chakki Whole Wheat Atta (10 kg)</td>\n",
       "      <td>110221</td>\n",
       "      <td>40646976.00</td>\n",
       "    </tr>\n",
       "    <tr>\n",
       "      <th>2</th>\n",
       "      <td>Fortune Premium Kachi Ghani Pure Mustard Oil</td>\n",
       "      <td>194562</td>\n",
       "      <td>36007725.00</td>\n",
       "    </tr>\n",
       "    <tr>\n",
       "      <th>3</th>\n",
       "      <td>Amul Taaza Toned Fresh Milk</td>\n",
       "      <td>1261153</td>\n",
       "      <td>31410529.00</td>\n",
       "    </tr>\n",
       "    <tr>\n",
       "      <th>4</th>\n",
       "      <td>Chakki Atta (10 kg)</td>\n",
       "      <td>97533</td>\n",
       "      <td>30364023.00</td>\n",
       "    </tr>\n",
       "    <tr>\n",
       "      <th>5</th>\n",
       "      <td>Onion</td>\n",
       "      <td>1171389</td>\n",
       "      <td>27511576.00</td>\n",
       "    </tr>\n",
       "    <tr>\n",
       "      <th>6</th>\n",
       "      <td>Amul Gold Full Cream Fresh Milk</td>\n",
       "      <td>897112</td>\n",
       "      <td>26829751.00</td>\n",
       "    </tr>\n",
       "    <tr>\n",
       "      <th>7</th>\n",
       "      <td>Maggi Masala Noodles - Pack of 12</td>\n",
       "      <td>175127</td>\n",
       "      <td>26704570.00</td>\n",
       "    </tr>\n",
       "    <tr>\n",
       "      <th>8</th>\n",
       "      <td>Amul Salted Butter</td>\n",
       "      <td>97703</td>\n",
       "      <td>24163756.00</td>\n",
       "    </tr>\n",
       "    <tr>\n",
       "      <th>9</th>\n",
       "      <td>Tender Coconut</td>\n",
       "      <td>396320</td>\n",
       "      <td>22922428.00</td>\n",
       "    </tr>\n",
       "  </tbody>\n",
       "</table>\n",
       "</div>"
      ],
      "text/plain": [
       "                                       product_name  procured_quantity  \\\n",
       "0          Fortune Soya Health Refined Soyabean Oil             250055   \n",
       "1  Aashirvaad Shudh Chakki Whole Wheat Atta (10 kg)             110221   \n",
       "2      Fortune Premium Kachi Ghani Pure Mustard Oil             194562   \n",
       "3                       Amul Taaza Toned Fresh Milk            1261153   \n",
       "4                               Chakki Atta (10 kg)              97533   \n",
       "5                                             Onion            1171389   \n",
       "6                   Amul Gold Full Cream Fresh Milk             897112   \n",
       "7                 Maggi Masala Noodles - Pack of 12             175127   \n",
       "8                                Amul Salted Butter              97703   \n",
       "9                                    Tender Coconut             396320   \n",
       "\n",
       "   total_sales  \n",
       "0  44814504.00  \n",
       "1  40646976.00  \n",
       "2  36007725.00  \n",
       "3  31410529.00  \n",
       "4  30364023.00  \n",
       "5  27511576.00  \n",
       "6  26829751.00  \n",
       "7  26704570.00  \n",
       "8  24163756.00  \n",
       "9  22922428.00  "
      ]
     },
     "execution_count": 49,
     "metadata": {},
     "output_type": "execute_result"
    }
   ],
   "source": [
    "# Identify top 10 best-selling products by revenue\n",
    "top_selling_products_revenue = product_performance.sort_values(by='total_sales', ascending=False).head(10).reset_index()\n",
    "\n",
    "print(\"Top 10 Best-Selling Products by Sales:\")\n",
    "top_selling_products_revenue[['product_name','procured_quantity','total_sales']]"
   ]
  },
  {
   "cell_type": "code",
   "execution_count": 51,
   "id": "dac0d7f4-cb87-4809-ba01-2be7d35e167e",
   "metadata": {
    "tags": []
   },
   "outputs": [
    {
     "data": {
      "image/png": "[encoded data removed]",
      "text/plain": [
       "<Figure size 1000x800 with 1 Axes>"
      ]
     },
     "metadata": {},
     "output_type": "display_data"
    }
   ],
   "source": [
    "# Convert total sales to millions\n",
    "top_selling_products_revenue['total_sales_millions'] = top_selling_products_revenue['total_sales'] / 1_000_000\n",
    "\n",
    "# Reverse the DataFrame to display the top product at the top in the horizontal bar chart\n",
    "top_selling_products_revenue_plt = top_selling_products_revenue.iloc[::-1]\n",
    "\n",
    "# Plot\n",
    "plt.figure(figsize=(10, 8))\n",
    "bars = plt.barh(top_selling_products_revenue_plt['product_name'], top_selling_products_revenue_plt['total_sales_millions'], color=[\n",
    "    '#89CFF0',  # Soft blue (repeat colors if needed)\n",
    "    '#FFA07A',  # Light Salmon (repeat colors if needed)\n",
    "    '#90EE90',  # Light green (repeat colors if needed)\n",
    "    '#FF6347',  # Tomato (repeat colors if needed)\n",
    "    '#BA55D3',  # Medium orchid (repeat colors if needed)\n",
    "    '#DEB887',  # Burlywood (repeat colors if needed)\n",
    "    '#FFB6C1',  # Light pink (repeat colors if needed)\n",
    "    '#C0C0C0',  # Silver (repeat colors if needed)\n",
    "    '#98FB98',  # Pale green (repeat colors if needed)\n",
    "    '#00FA9A'   # Medium spring green (repeat colors if needed)\n",
    "])\n",
    "\n",
    "# Add x-axis label in millions\n",
    "plt.xlabel('Total Sales (Millions)')\n",
    "\n",
    "# Add data labels\n",
    "for bar in bars:\n",
    "    width = bar.get_width()\n",
    "    plt.text(width, bar.get_y() + bar.get_height()/2, f'{width:.2f}M', ha='right', va='center')\n",
    "\n",
    "plt.title('Top 10 Best-Selling Products by Sales')\n",
    "plt.tight_layout()\n",
    "plt.show()\n"
   ]
  },
  {
   "cell_type": "markdown",
   "id": "f1ac0b8f-bd33-473b-9984-ea998da9a732",
   "metadata": {
    "tags": []
   },
   "source": [
    "#### ***Top Selling Category***"
   ]
  },
  {
   "cell_type": "code",
   "execution_count": 53,
   "id": "dc508fe0-5664-49cf-b72b-d1f21f956ebf",
   "metadata": {
    "tags": []
   },
   "outputs": [
    {
     "name": "stdout",
     "output_type": "stream",
     "text": [
      "Top 10 Best-Selling Categories by Sales:\n"
     ]
    },
    {
     "data": {
      "text/html": [
       "<div>\n",
       "<style scoped>\n",
       "    .dataframe tbody tr th:only-of-type {\n",
       "        vertical-align: middle;\n",
       "    }\n",
       "\n",
       "    .dataframe tbody tr th {\n",
       "        vertical-align: top;\n",
       "    }\n",
       "\n",
       "    .dataframe thead th {\n",
       "        text-align: right;\n",
       "    }\n",
       "</style>\n",
       "<table border=\"1\" class=\"dataframe\">\n",
       "  <thead>\n",
       "    <tr style=\"text-align: right;\">\n",
       "      <th></th>\n",
       "      <th>category_0</th>\n",
       "      <th>total_sales</th>\n",
       "    </tr>\n",
       "  </thead>\n",
       "  <tbody>\n",
       "    <tr>\n",
       "      <th>0</th>\n",
       "      <td>Dry Fruits, Masala &amp; Oil</td>\n",
       "      <td>815641197.00</td>\n",
       "    </tr>\n",
       "    <tr>\n",
       "      <th>1</th>\n",
       "      <td>Dairy &amp; Breakfast</td>\n",
       "      <td>547623366.00</td>\n",
       "    </tr>\n",
       "    <tr>\n",
       "      <th>2</th>\n",
       "      <td>Atta, Rice &amp; Dal</td>\n",
       "      <td>540824597.00</td>\n",
       "    </tr>\n",
       "    <tr>\n",
       "      <th>3</th>\n",
       "      <td>Vegetables &amp; Fruits</td>\n",
       "      <td>491973610.00</td>\n",
       "    </tr>\n",
       "    <tr>\n",
       "      <th>4</th>\n",
       "      <td>Personal Care</td>\n",
       "      <td>320269061.00</td>\n",
       "    </tr>\n",
       "    <tr>\n",
       "      <th>5</th>\n",
       "      <td>Cleaning Essentials</td>\n",
       "      <td>308661433.00</td>\n",
       "    </tr>\n",
       "    <tr>\n",
       "      <th>6</th>\n",
       "      <td>Cold Drinks &amp; Juices</td>\n",
       "      <td>255625764.00</td>\n",
       "    </tr>\n",
       "    <tr>\n",
       "      <th>7</th>\n",
       "      <td>Tea, Coffee &amp; Health Drinks</td>\n",
       "      <td>205651092.00</td>\n",
       "    </tr>\n",
       "    <tr>\n",
       "      <th>8</th>\n",
       "      <td>Munchies</td>\n",
       "      <td>195479259.00</td>\n",
       "    </tr>\n",
       "    <tr>\n",
       "      <th>9</th>\n",
       "      <td>Instant &amp; Frozen Food</td>\n",
       "      <td>194664391.00</td>\n",
       "    </tr>\n",
       "  </tbody>\n",
       "</table>\n",
       "</div>"
      ],
      "text/plain": [
       "                    category_0  total_sales\n",
       "0     Dry Fruits, Masala & Oil 815641197.00\n",
       "1            Dairy & Breakfast 547623366.00\n",
       "2             Atta, Rice & Dal 540824597.00\n",
       "3          Vegetables & Fruits 491973610.00\n",
       "4                Personal Care 320269061.00\n",
       "5          Cleaning Essentials 308661433.00\n",
       "6         Cold Drinks & Juices 255625764.00\n",
       "7  Tea, Coffee & Health Drinks 205651092.00\n",
       "8                     Munchies 195479259.00\n",
       "9        Instant & Frozen Food 194664391.00"
      ]
     },
     "execution_count": 53,
     "metadata": {},
     "output_type": "execute_result"
    }
   ],
   "source": [
    "# Grouping by category and calculate total revenue for each category\n",
    "category_performance = product_performance.groupby(['category_0'],observed = False).agg({\n",
    "    'total_sales': 'sum'}).reset_index()\n",
    "\n",
    "# Sorting by total revenue to identify top-selling categories\n",
    "top_selling_categories = category_performance.sort_values(by='total_sales', ascending=False).reset_index().head(10)\n",
    "\n",
    "print(\"Top 10 Best-Selling Categories by Sales:\")\n",
    "top_selling_categories[['category_0','total_sales']]"
   ]
  },
  {
   "cell_type": "code",
   "execution_count": 55,
   "id": "9d98f724-109e-4bdf-b5b2-3fdcd7a45f53",
   "metadata": {
    "tags": []
   },
   "outputs": [
    {
     "data": {
      "image/png": "[encoded data removed]",
      "text/plain": [
       "<Figure size 800x800 with 1 Axes>"
      ]
     },
     "metadata": {},
     "output_type": "display_data"
    }
   ],
   "source": [
    "# Reverse the DataFrame to display the top product at the top in the horizontal bar chart\n",
    "top_selling_categories_plt = top_selling_categories.iloc[::-1]\n",
    "\n",
    "\n",
    "# Prepare data for circlify\n",
    "circles = circlify.circlify(\n",
    "    top_selling_categories_plt['total_sales'].tolist(), \n",
    "    show_enclosure=False, \n",
    "    target_enclosure=circlify.Circle(x=0, y=0, r=1)\n",
    ")\n",
    "\n",
    "# Define a color palette\n",
    "colors = ['#00FA9A', '#98FB98', '#C0C0C0', '#FFB6C1', '#DEB887', '#BA55D3', '#FF6347', '#90EE90', '#FFA07A', '#89CFF0']\n",
    "\n",
    "# Create the plot\n",
    "fig, ax = plt.subplots(figsize=(8, 8))\n",
    "ax.axis('off')\n",
    "ax.set_aspect('equal')\n",
    "\n",
    "# Title\n",
    "plt.title('Top 10 Best-Selling Categories by Sales')\n",
    "\n",
    "# Plot circles with colors\n",
    "lim = max(max(abs(circle.x) + circle.r, abs(circle.y) + circle.r) for circle in circles)\n",
    "for circle, label, value, color in zip(circles, top_selling_categories_plt['category_0'], top_selling_categories_plt['total_sales'], colors):\n",
    "    x, y, r = circle\n",
    "    ax.add_patch(plt.Circle((x, y), r, edgecolor='black', facecolor=color, alpha=0.6))\n",
    "    plt.text(x, y, f\"{label}\\n${value / 1_000_000:.2f}M\", ha='center', va='center', size=10)\n",
    "\n",
    "# Set the limits to ensure circles fit within the plot area\n",
    "plt.xlim(-lim, lim)\n",
    "plt.ylim(-lim, lim)\n",
    "\n",
    "plt.show()"
   ]
  },
  {
   "cell_type": "markdown",
   "id": "728faae2-2c37-4757-97b0-c659c072606c",
   "metadata": {},
   "source": [
    "#### ***Profitable Products***"
   ]
  },
  {
   "cell_type": "code",
   "execution_count": 57,
   "id": "04a76bc7-6a8c-4b77-a8db-c38c76003f04",
   "metadata": {
    "tags": []
   },
   "outputs": [
    {
     "name": "stdout",
     "output_type": "stream",
     "text": [
      "Most Profitable Products :\n"
     ]
    },
    {
     "data": {
      "text/html": [
       "<div>\n",
       "<style scoped>\n",
       "    .dataframe tbody tr th:only-of-type {\n",
       "        vertical-align: middle;\n",
       "    }\n",
       "\n",
       "    .dataframe tbody tr th {\n",
       "        vertical-align: top;\n",
       "    }\n",
       "\n",
       "    .dataframe thead th {\n",
       "        text-align: right;\n",
       "    }\n",
       "</style>\n",
       "<table border=\"1\" class=\"dataframe\">\n",
       "  <thead>\n",
       "    <tr style=\"text-align: right;\">\n",
       "      <th></th>\n",
       "      <th>product_name</th>\n",
       "      <th>profit_margin</th>\n",
       "    </tr>\n",
       "  </thead>\n",
       "  <tbody>\n",
       "    <tr>\n",
       "      <th>0</th>\n",
       "      <td>Sunpure Sulphurless Sugar</td>\n",
       "      <td>99.97</td>\n",
       "    </tr>\n",
       "    <tr>\n",
       "      <th>1</th>\n",
       "      <td>Prestige Pressure Cooker (Aluminium, 3 l, Silver)</td>\n",
       "      <td>97.65</td>\n",
       "    </tr>\n",
       "    <tr>\n",
       "      <th>2</th>\n",
       "      <td>Johnson's No More Tears Baby Shampoo</td>\n",
       "      <td>94.62</td>\n",
       "    </tr>\n",
       "    <tr>\n",
       "      <th>3</th>\n",
       "      <td>Aravi Kitchen Gloves</td>\n",
       "      <td>72.95</td>\n",
       "    </tr>\n",
       "    <tr>\n",
       "      <th>4</th>\n",
       "      <td>Brown Pre - Rolled Cones by Baked - Pack of 6</td>\n",
       "      <td>67.40</td>\n",
       "    </tr>\n",
       "    <tr>\n",
       "      <th>5</th>\n",
       "      <td>Rolling Paper (King Size, Brown) By Stash Pro</td>\n",
       "      <td>66.52</td>\n",
       "    </tr>\n",
       "    <tr>\n",
       "      <th>6</th>\n",
       "      <td>Small Rolling Paper (Brown) By Stash Pro</td>\n",
       "      <td>65.44</td>\n",
       "    </tr>\n",
       "    <tr>\n",
       "      <th>7</th>\n",
       "      <td>Scented Votive Candle (Jasmine, White) by Aura...</td>\n",
       "      <td>65.42</td>\n",
       "    </tr>\n",
       "    <tr>\n",
       "      <th>8</th>\n",
       "      <td>Ash Gourd</td>\n",
       "      <td>65.04</td>\n",
       "    </tr>\n",
       "    <tr>\n",
       "      <th>9</th>\n",
       "      <td>Volvo Plus Disposable Hand Gloves</td>\n",
       "      <td>64.57</td>\n",
       "    </tr>\n",
       "  </tbody>\n",
       "</table>\n",
       "</div>"
      ],
      "text/plain": [
       "                                        product_name  profit_margin\n",
       "0                          Sunpure Sulphurless Sugar          99.97\n",
       "1  Prestige Pressure Cooker (Aluminium, 3 l, Silver)          97.65\n",
       "2               Johnson's No More Tears Baby Shampoo          94.62\n",
       "3                               Aravi Kitchen Gloves          72.95\n",
       "4      Brown Pre - Rolled Cones by Baked - Pack of 6          67.40\n",
       "5      Rolling Paper (King Size, Brown) By Stash Pro          66.52\n",
       "6           Small Rolling Paper (Brown) By Stash Pro          65.44\n",
       "7  Scented Votive Candle (Jasmine, White) by Aura...          65.42\n",
       "8                                          Ash Gourd          65.04\n",
       "9                  Volvo Plus Disposable Hand Gloves          64.57"
      ]
     },
     "execution_count": 57,
     "metadata": {},
     "output_type": "execute_result"
    }
   ],
   "source": [
    "profitable_products = monthly_sales_data.groupby('product_id').agg({\n",
    "    'total_weighted_landing_price': 'sum',\n",
    "    'total_sales' : 'sum'\n",
    "}).reset_index()\n",
    "\n",
    "# Calculate profit for each product\n",
    "profitable_products['total_profit'] = profitable_products['total_sales'] - profitable_products['total_weighted_landing_price']\n",
    "\n",
    "# Calculate profit margin for each product\n",
    "profitable_products['profit_margin'] = (profitable_products['total_profit'] / profitable_products['total_sales']) * 100\n",
    "\n",
    "# Get product names from product_data\n",
    "profitable_products = profitable_products.merge(product_data[['product_id_product_id','product_name']],left_on = 'product_id',right_on = 'product_id_product_id',how = 'left')\n",
    "\n",
    "# Remove NaN product names\n",
    "profitable_products = profitable_products.dropna(subset=['product_name'])\n",
    "\n",
    "# Exclude products with zero total cost to avoid infinite margins\n",
    "profitable_products = profitable_products[(profitable_products['total_weighted_landing_price'] > 0) & (profitable_products['total_sales'] >= 10000)]\n",
    "\n",
    "# Identify top 10 most profitable products by profit margin\n",
    "most_profitable_products = profitable_products.sort_values('profit_margin',ascending = False).reset_index().head(10)\n",
    "\n",
    "print(\"Most Profitable Products :\")\n",
    "most_profitable_products[['product_name','profit_margin']]"
   ]
  },
  {
   "cell_type": "markdown",
   "id": "59b8efe0-c4ab-4baf-8770-b664102be66e",
   "metadata": {},
   "source": [
    "### ***Geographic KPIs***"
   ]
  },
  {
   "cell_type": "markdown",
   "id": "8796c31d-fc41-418b-b8fb-ec2d30cb2064",
   "metadata": {},
   "source": [
    "#### ***Sales by region***"
   ]
  },
  {
   "cell_type": "code",
   "execution_count": 59,
   "id": "df7731af-9159-40c6-bca0-ec4a400559ca",
   "metadata": {
    "tags": []
   },
   "outputs": [
    {
     "name": "stdout",
     "output_type": "stream",
     "text": [
      "Sales by city :\n"
     ]
    },
    {
     "data": {
      "text/html": [
       "<div>\n",
       "<style scoped>\n",
       "    .dataframe tbody tr th:only-of-type {\n",
       "        vertical-align: middle;\n",
       "    }\n",
       "\n",
       "    .dataframe tbody tr th {\n",
       "        vertical-align: top;\n",
       "    }\n",
       "\n",
       "    .dataframe thead th {\n",
       "        text-align: right;\n",
       "    }\n",
       "</style>\n",
       "<table border=\"1\" class=\"dataframe\">\n",
       "  <thead>\n",
       "    <tr style=\"text-align: right;\">\n",
       "      <th></th>\n",
       "      <th>city_name</th>\n",
       "      <th>total_sales</th>\n",
       "    </tr>\n",
       "  </thead>\n",
       "  <tbody>\n",
       "    <tr>\n",
       "      <th>0</th>\n",
       "      <td>Delhi</td>\n",
       "      <td>2288798124.00</td>\n",
       "    </tr>\n",
       "    <tr>\n",
       "      <th>1</th>\n",
       "      <td>HR-NCR</td>\n",
       "      <td>1139562783.00</td>\n",
       "    </tr>\n",
       "    <tr>\n",
       "      <th>2</th>\n",
       "      <td>Bengaluru</td>\n",
       "      <td>865422917.00</td>\n",
       "    </tr>\n",
       "    <tr>\n",
       "      <th>3</th>\n",
       "      <td>Mumbai</td>\n",
       "      <td>432164698.00</td>\n",
       "    </tr>\n",
       "  </tbody>\n",
       "</table>\n",
       "</div>"
      ],
      "text/plain": [
       "   city_name   total_sales\n",
       "0      Delhi 2288798124.00\n",
       "1     HR-NCR 1139562783.00\n",
       "2  Bengaluru  865422917.00\n",
       "3     Mumbai  432164698.00"
      ]
     },
     "execution_count": 59,
     "metadata": {},
     "output_type": "execute_result"
    }
   ],
   "source": [
    "# Grouping by city_name and calculating revenue of each city\n",
    "city_performance = monthly_sales_data.groupby('city_name',observed = False).agg({'total_sales' : 'sum'})\n",
    "\n",
    "# sorting by total sales\n",
    "city_performance = city_performance.sort_values('total_sales',ascending = False).reset_index()\n",
    "\n",
    "print(\"Sales by city :\")\n",
    "city_performance[['city_name', 'total_sales']]"
   ]
  },
  {
   "cell_type": "code",
   "execution_count": 61,
   "id": "af2d932a-7d17-4af1-85fd-abb629acbc38",
   "metadata": {
    "tags": []
   },
   "outputs": [
    {
     "data": {
      "image/png": "[encoded data removed]",
      "text/plain": [
       "<Figure size 1000x600 with 1 Axes>"
      ]
     },
     "metadata": {},
     "output_type": "display_data"
    }
   ],
   "source": [
    "# Function to format the labels\n",
    "def func(pct, allvals):\n",
    "    absolute = int(pct/100.*np.sum(allvals))\n",
    "    return f\"{pct:.1f}%\\n(₹{absolute/1_000_000:.1f}M)\"\n",
    "\n",
    "# Plot pie chart\n",
    "plt.figure(figsize=(10, 6))\n",
    "plt.pie(city_performance['total_sales'], labels=city_performance['city_name'], autopct=lambda pct: func(pct, city_performance['total_sales']), startangle=140, colors =['#FF5B61','skyblue','lightgreen','orange'])\n",
    "plt.title('Sales Distribution by City')\n",
    "plt.axis('equal')  # Equal aspect ratio ensures that pie is drawn as a circle.\n",
    "plt.show()"
   ]
  },
  {
   "cell_type": "markdown",
   "id": "7bdd0754-aa4d-4e73-aefa-6dbca6f02302",
   "metadata": {},
   "source": [
    "### ***Customer KPIs***"
   ]
  },
  {
   "cell_type": "markdown",
   "id": "519996c6-5bf3-46b0-ab06-3e9dc3b6ddf7",
   "metadata": {
    "tags": []
   },
   "source": [
    "#### ***Customer Lifetime Value***"
   ]
  },
  {
   "cell_type": "code",
   "execution_count": 63,
   "id": "3e53deec-4c73-454b-b29d-065c5efdfccf",
   "metadata": {
    "tags": []
   },
   "outputs": [
    {
     "name": "stdout",
     "output_type": "stream",
     "text": [
      "Average Purchase Value: $453.07\n",
      "Purchase Frequency: 1.90\n",
      "Customer Value: $859.47\n",
      "Customer Lifetime Value (CLTV): $2578.41\n"
     ]
    }
   ],
   "source": [
    "customer_revenue = monthly_sales_data.groupby('customer_id')['total_sales'].sum()\n",
    "\n",
    "# 2. Calculate the number of unique purchasing months for each customer\n",
    "monthly_sales_data['year_month'] = monthly_sales_data['date'].dt.to_period('M')\n",
    "customer_months = monthly_sales_data.groupby('customer_id')['year_month'].nunique()\n",
    "\n",
    "# 3. Average Purchase Value\n",
    "average_purchase_value = customer_revenue.sum() / monthly_sales_data['order_id'].nunique()\n",
    "\n",
    "# 4. Purchase Frequency\n",
    "purchase_frequency = customer_months.sum() / monthly_sales_data['customer_id'].nunique()\n",
    "\n",
    "# 5. Customer Value\n",
    "customer_value = average_purchase_value * purchase_frequency\n",
    "\n",
    "# 6. Average Customer Lifespan (assuming 3 years)\n",
    "average_lifespan = 3\n",
    "\n",
    "# 7. Calculate CLTV\n",
    "CLTV = customer_value * average_lifespan\n",
    "\n",
    "print(f\"Average Purchase Value: ${average_purchase_value:.2f}\")\n",
    "print(f\"Purchase Frequency: {purchase_frequency:.2f}\")\n",
    "print(f\"Customer Value: ${customer_value:.2f}\")\n",
    "print(f\"Customer Lifetime Value (CLTV): ${CLTV:.2f}\")\n"
   ]
  },
  {
   "cell_type": "markdown",
   "id": "e3b6e8a3-2580-43a5-94de-8249266b9412",
   "metadata": {
    "tags": []
   },
   "source": [
    "#### ***Retention Rate***"
   ]
  },
  {
   "cell_type": "code",
   "execution_count": 65,
   "id": "fb52bf05-39b0-4545-a2ae-9bbe1a4ab0a5",
   "metadata": {
    "tags": []
   },
   "outputs": [
    {
     "name": "stdout",
     "output_type": "stream",
     "text": [
      "Retention Rate:\n",
      "year_month\n",
      "2022-04   100.00\n",
      "2022-05    97.95\n",
      "2022-06    95.53\n",
      "2022-07    70.37\n",
      "Freq: M, Name: customer_id, dtype: float64\n"
     ]
    }
   ],
   "source": [
    "# Convert 'date' to period to facilitate grouping by month\n",
    "monthly_sales_data['year_month'] = monthly_sales_data['date'].dt.to_period('M')\n",
    "\n",
    "# Calculate the number of unique customers in the initial period\n",
    "initial_customers = monthly_sales_data[monthly_sales_data['year_month'] == monthly_sales_data['year_month'].min()]['customer_id'].nunique()\n",
    "\n",
    "# Calculate the number of customers who remain active in subsequent periods\n",
    "retained_customers = monthly_sales_data.groupby('year_month')['customer_id'].nunique()\n",
    "\n",
    "# Calculate Retention Rate directly\n",
    "retention_rate = (retained_customers / initial_customers) * 100\n",
    "\n",
    "print(\"Retention Rate:\")\n",
    "print(retention_rate)"
   ]
  },
  {
   "cell_type": "markdown",
   "id": "c60c3da8-2e05-4c2f-96df-4e3b92409bbd",
   "metadata": {
    "tags": []
   },
   "source": [
    "#### ***Churn Rate***"
   ]
  },
  {
   "cell_type": "code",
   "execution_count": 67,
   "id": "c84b95ef-b5a6-4c4f-8a65-a0d0da143019",
   "metadata": {
    "tags": []
   },
   "outputs": [
    {
     "name": "stdout",
     "output_type": "stream",
     "text": [
      "Churn Rate: 63.31%\n"
     ]
    }
   ],
   "source": [
    "# 4. Churn Rate\n",
    "last_month_customers = monthly_sales_data[monthly_sales_data['year_month'] == monthly_sales_data['year_month'].max()]['customer_id'].unique()\n",
    "churn_rate = (1 - (len(last_month_customers) / monthly_sales_data['customer_id'].nunique())) * 100  # Percentage of customers who stopped buying\n",
    "\n",
    "print(\"Churn Rate: {:.2f}%\".format(churn_rate))"
   ]
  },
  {
   "cell_type": "code",
   "execution_count": 69,
   "id": "d29aa030-8a09-420f-a3fd-9cdcbcd01e80",
   "metadata": {
    "tags": []
   },
   "outputs": [
    {
     "name": "stdout",
     "output_type": "stream",
     "text": [
      "Churn Rates per Month:\n",
      "  year_month  churn_rate\n",
      "0    2022-05       42.43\n",
      "1    2022-06       45.82\n",
      "2    2022-07       54.77\n"
     ]
    }
   ],
   "source": [
    "# Convert 'date' to period to facilitate grouping by month\n",
    "monthly_sales_data['year_month'] = monthly_sales_data['date'].dt.to_period('M')\n",
    "\n",
    "# Group the data by 'year_month' and count the number of unique customers for each month\n",
    "customers_per_month = monthly_sales_data.groupby('year_month')['customer_id'].nunique()\n",
    "\n",
    "# Initialize a dictionary to store churn rates per month\n",
    "churn_rates = {}\n",
    "\n",
    "# Iterate over each month (excluding the first month)\n",
    "for i in range(1, len(customers_per_month)):\n",
    "    # Identify customers who made purchases in the previous month\n",
    "    previous_month_customers = monthly_sales_data[monthly_sales_data['year_month'] == customers_per_month.index[i - 1]]['customer_id'].unique()\n",
    "    # Identify customers who made purchases in the current month\n",
    "    current_month_customers = monthly_sales_data[monthly_sales_data['year_month'] == customers_per_month.index[i]]['customer_id'].unique()\n",
    "    # Calculate churned customers (those in the previous month but not in the current month)\n",
    "    churned_customers = set(previous_month_customers) - set(current_month_customers)\n",
    "    # Calculate churn rate for the current month\n",
    "    churn_rate = len(churned_customers) / customers_per_month[customers_per_month.index[i - 1]] * 100  # Convert to percentage\n",
    "    # Store churn rate in the dictionary\n",
    "    churn_rates[customers_per_month.index[i]] = churn_rate\n",
    "\n",
    "# Convert the dictionary to a DataFrame for easier visualization\n",
    "churn_rates_df = pd.DataFrame(list(churn_rates.items()), columns=['year_month', 'churn_rate'])\n",
    "\n",
    "print(\"Churn Rates per Month:\")\n",
    "print(churn_rates_df)\n"
   ]
  },
  {
   "cell_type": "code",
   "execution_count": 71,
   "id": "140030a4-5fa5-445e-a93c-96cf428032e9",
   "metadata": {
    "tags": []
   },
   "outputs": [
    {
     "name": "stdout",
     "output_type": "stream",
     "text": [
      "   city_name  churn_rates\n",
      "0  Bengaluru        48.08\n",
      "1      Delhi        50.09\n",
      "2     HR-NCR        41.26\n",
      "3     Mumbai        54.23\n"
     ]
    }
   ],
   "source": [
    "# Define the periods (e.g., monthly churn rate)\n",
    "monthly_sales_data['month'] = monthly_sales_data['date'].dt.to_period('M')\n",
    "\n",
    "# Identify unique customers for each month and city\n",
    "unique_customers_per_month_city = monthly_sales_data.groupby(['month', 'city_name'],observed=False)['customer_id'].apply(set)\n",
    "\n",
    "# Initialize a dictionary to store churn rates for each city\n",
    "churn_rates_by_city = {}\n",
    "\n",
    "# Loop through each city to calculate churn rate\n",
    "for city, city_customers in unique_customers_per_month_city.groupby(level='city_name',observed=False):\n",
    "    # Initialize a list to store churn rates for the current city\n",
    "    churn_rates = []\n",
    "    # Loop through each period to calculate churn rate\n",
    "    for i in range(1, len(city_customers)):\n",
    "        previous_month_customers = city_customers.iloc[i-1]\n",
    "        current_month_customers = city_customers.iloc[i]\n",
    "        # Calculate churned customers\n",
    "        churned_customers = previous_month_customers - current_month_customers\n",
    "        # Calculate churn rate\n",
    "        if len(previous_month_customers) > 0:  # Avoid division by zero\n",
    "            churn_rate = len(churned_customers) / len(previous_month_customers) * 100\n",
    "        else:\n",
    "            churn_rate = 0\n",
    "        churn_rates.append(churn_rate)\n",
    "    # Store churn rates for the current city in the dictionary\n",
    "    churn_rates_by_city[city] = churn_rates\n",
    "\n",
    "# Create a DataFrame to display churn rates by city\n",
    "churn_rate_by_city_df = pd.DataFrame({\n",
    "    'city_name': list(churn_rates_by_city.keys()),\n",
    "    'churn_rates': [sum(churn_rates) / len(churn_rates) for churn_rates in churn_rates_by_city.values()]\n",
    "})\n",
    "\n",
    "# Display churn rates by city\n",
    "print(churn_rate_by_city_df)"
   ]
  },
  {
   "cell_type": "markdown",
   "id": "f75993ee-8d02-48c4-9b00-8c8afb49ee38",
   "metadata": {
    "tags": []
   },
   "source": [
    "#### ***Repeat Purchase Rate***"
   ]
  },
  {
   "cell_type": "code",
   "execution_count": 73,
   "id": "adf1b380-2b7f-47dc-83ae-8056e7b3b4ee",
   "metadata": {
    "tags": []
   },
   "outputs": [
    {
     "name": "stdout",
     "output_type": "stream",
     "text": [
      "Total Number of Customers: 1986587\n",
      "Number of Repeat Customers: 1225347\n",
      "Repeat Purchase Rate: 61.68101371850314 %\n"
     ]
    }
   ],
   "source": [
    "# Group monthly sales data by 'customer_id' and count the number of unique 'order_id's for each customer\n",
    "customer_orders = monthly_sales_data.groupby('customer_id')['order_id'].nunique()\n",
    "\n",
    "# Calculate the total number of customers\n",
    "total_customers = len(customer_orders)\n",
    "\n",
    "# Calculate the number of repeat customers\n",
    "num_repeat_customers = (customer_orders > 1).sum()\n",
    "\n",
    "# Calculate the repeat purchase rate\n",
    "repeat_purchase_rate = (num_repeat_customers / total_customers) * 100\n",
    "\n",
    "print(\"Total Number of Customers:\", total_customers)\n",
    "print(\"Number of Repeat Customers:\", num_repeat_customers)\n",
    "print(\"Repeat Purchase Rate:\", repeat_purchase_rate, \"%\")"
   ]
  },
  {
   "cell_type": "markdown",
   "id": "c7488098-5248-4238-903e-4cd7d1c846f0",
   "metadata": {},
   "source": [
    "#### ***Average Purchase Frequency***\n"
   ]
  },
  {
   "cell_type": "code",
   "execution_count": 75,
   "id": "cad4f945-b5c4-4a31-ac90-708d50307f80",
   "metadata": {
    "tags": []
   },
   "outputs": [
    {
     "name": "stdout",
     "output_type": "stream",
     "text": [
      "Average Purchase Frequency: 5.25\n"
     ]
    }
   ],
   "source": [
    "# 5. Average Purchase Frequency\n",
    "total_purchases = monthly_sales_data['order_id'].nunique()\n",
    "unique_customers = monthly_sales_data['customer_id'].nunique()\n",
    "average_purchase_frequency = total_purchases / unique_customers\n",
    "\n",
    "print(\"Average Purchase Frequency: {:.2f}\".format(average_purchase_frequency))"
   ]
  },
  {
   "cell_type": "code",
   "execution_count": null,
   "id": "27ddc03d-0def-400a-ba51-652b5712b976",
   "metadata": {},
   "outputs": [],
   "source": []
  }
 ],
 "metadata": {
  "kernelspec": {
   "display_name": "Python 3 (ipykernel)",
   "language": "python",
   "name": "python3"
  },
  "language_info": {
   "codemirror_mode": {
    "name": "ipython",
    "version": 3
   },
   "file_extension": ".py",
   "mimetype": "text/x-python",
   "name": "python",
   "nbconvert_exporter": "python",
   "pygments_lexer": "ipython3",
   "version": "3.11.7"
  }
 },
 "nbformat": 4,
 "nbformat_minor": 5
}
